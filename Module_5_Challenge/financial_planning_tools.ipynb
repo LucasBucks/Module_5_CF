{
 "cells": [
  {
   "cell_type": "markdown",
   "metadata": {},
   "source": [
    "# Financial Planning with APIs and Simulations\n",
    "\n",
    "In this Challenge, you’ll create two financial analysis tools by using a single Jupyter notebook:\n",
    "\n",
    "Part 1: A financial planner for emergencies. The members will be able to use this tool to visualize their current savings. The members can then determine if they have enough reserves for an emergency fund.\n",
    "\n",
    "Part 2: A financial planner for retirement. This tool will forecast the performance of their retirement portfolio in 30 years. To do this, the tool will make an Alpaca API call via the Alpaca SDK to get historical price data for use in Monte Carlo simulations.\n",
    "\n",
    "You’ll use the information from the Monte Carlo simulation to answer questions about the portfolio in your Jupyter notebook.\n",
    "\n"
   ]
  },
  {
   "cell_type": "code",
   "execution_count": 98,
   "metadata": {},
   "outputs": [],
   "source": [
    "# Import the required libraries and dependencies\n",
    "import os\n",
    "import requests\n",
    "import json\n",
    "import pandas as pd\n",
    "from dotenv import load_dotenv\n",
    "import alpaca_trade_api as tradeapi\n",
    "from MCForecastTools import MCSimulation\n",
    "\n",
    "%matplotlib inline"
   ]
  },
  {
   "cell_type": "code",
   "execution_count": 53,
   "metadata": {},
   "outputs": [
    {
     "data": {
      "text/plain": [
       "True"
      ]
     },
     "execution_count": 53,
     "metadata": {},
     "output_type": "execute_result"
    }
   ],
   "source": [
    "# Load the environment variables from the .env file\n",
    "#by calling the load_dotenv function\n",
    "load_dotenv()"
   ]
  },
  {
   "cell_type": "code",
   "execution_count": 54,
   "metadata": {},
   "outputs": [
    {
     "data": {
      "text/plain": [
       "str"
      ]
     },
     "execution_count": 54,
     "metadata": {},
     "output_type": "execute_result"
    }
   ],
   "source": [
    "quandl_api_key = os.getenv(\"QUANDL_API_KEY\")\n",
    "type(quandl_api_key)"
   ]
  },
  {
   "cell_type": "markdown",
   "metadata": {},
   "source": [
    "## Part 1: Create a Financial Planner for Emergencies"
   ]
  },
  {
   "cell_type": "markdown",
   "metadata": {},
   "source": [
    "### Evaluate the Cryptocurrency Wallet by Using the Requests Library\n",
    "\n",
    "In this section, you’ll determine the current value of a member’s cryptocurrency wallet. You’ll collect the current prices for the Bitcoin and Ethereum cryptocurrencies by using the Python Requests library. For the prototype, you’ll assume that the member holds the 1.2 Bitcoins (BTC) and 5.3 Ethereum coins (ETH). To do all this, complete the following steps:\n",
    "\n",
    "1. Create a variable named `monthly_income`, and set its value to `12000`.\n",
    "\n",
    "2. Use the Requests library to get the current price (in US dollars) of Bitcoin (BTC) and Ethereum (ETH) by using the API endpoints that the starter code supplies.\n",
    "\n",
    "3. Navigate the JSON response object to access the current price of each coin, and store each in a variable.\n",
    "\n",
    "    > **Hint** Note the specific identifier for each cryptocurrency in the API JSON response. The Bitcoin identifier is `1`, and the Ethereum identifier is `1027`.\n",
    "\n",
    "4. Calculate the value, in US dollars, of the current amount of each cryptocurrency and of the entire cryptocurrency wallet.\n",
    "\n"
   ]
  },
  {
   "cell_type": "code",
   "execution_count": 55,
   "metadata": {},
   "outputs": [],
   "source": [
    "# The current number of coins for each cryptocurrency asset held in the portfolio.\n",
    "btc_coins = 1.2\n",
    "eth_coins = 5.3"
   ]
  },
  {
   "cell_type": "markdown",
   "metadata": {},
   "source": [
    "#### Step 1: Create a variable named `monthly_income`, and set its value to `12000`."
   ]
  },
  {
   "cell_type": "code",
   "execution_count": 56,
   "metadata": {},
   "outputs": [],
   "source": [
    "# The monthly amount for the member's household income\n",
    "monthly_income = 12000\n"
   ]
  },
  {
   "cell_type": "markdown",
   "metadata": {},
   "source": [
    "#### Review the endpoint URLs for the API calls to Free Crypto API in order to get the current pricing information for both BTC and ETH."
   ]
  },
  {
   "cell_type": "code",
   "execution_count": 57,
   "metadata": {},
   "outputs": [],
   "source": [
    "# The Free Crypto API Call endpoint URLs for the held cryptocurrency assets\n",
    "btc_url = \"https://api.alternative.me/v2/ticker/Bitcoin/?convert=USD\"\n",
    "eth_url = \"https://api.alternative.me/v2/ticker/Ethereum/?convert=USD\""
   ]
  },
  {
   "cell_type": "markdown",
   "metadata": {},
   "source": [
    "#### Step 2. Use the Requests library to get the current price (in US dollars) of Bitcoin (BTC) and Ethereum (ETH) by using the API endpoints that the starter code supplied."
   ]
  },
  {
   "cell_type": "code",
   "execution_count": 58,
   "metadata": {},
   "outputs": [
    {
     "name": "stdout",
     "output_type": "stream",
     "text": [
      "{\n",
      "    \"data\": {\n",
      "        \"1\": {\n",
      "            \"circulating_supply\": 19039612,\n",
      "            \"id\": 1,\n",
      "            \"last_updated\": 1652525334,\n",
      "            \"max_supply\": 21000000,\n",
      "            \"name\": \"Bitcoin\",\n",
      "            \"quotes\": {\n",
      "                \"USD\": {\n",
      "                    \"market_cap\": 560587107641,\n",
      "                    \"percent_change_1h\": -0.182921020983745,\n",
      "                    \"percent_change_24h\": -3.42755821747988,\n",
      "                    \"percent_change_7d\": -18.6972774039472,\n",
      "                    \"percentage_change_1h\": -0.182921020983745,\n",
      "                    \"percentage_change_24h\": -3.42755821747988,\n",
      "                    \"percentage_change_7d\": -18.6972774039472,\n",
      "                    \"price\": 29364.0,\n",
      "                    \"volume_24h\": 30795629980\n",
      "                }\n",
      "            },\n",
      "            \"rank\": 1,\n",
      "            \"symbol\": \"BTC\",\n",
      "            \"total_supply\": 19039612,\n",
      "            \"website_slug\": \"bitcoin\"\n",
      "        }\n",
      "    },\n",
      "    \"metadata\": {\n",
      "        \"error\": null,\n",
      "        \"num_cryptocurrencies\": 3106,\n",
      "        \"timestamp\": 1652525334\n",
      "    }\n",
      "}\n"
     ]
    }
   ],
   "source": [
    "# Using the Python requests library, make an API call to access the current price of BTC\n",
    "btc_response = requests.get(btc_url).json()\n",
    "\n",
    "# Use the json.dumps function to review the response data from the API call\n",
    "# Use the indent and sort_keys parameters to make the response object readable\n",
    "print(json.dumps(btc_response, indent=4, sort_keys=True))\n"
   ]
  },
  {
   "cell_type": "code",
   "execution_count": 59,
   "metadata": {},
   "outputs": [
    {
     "name": "stdout",
     "output_type": "stream",
     "text": [
      "{\n",
      "    \"data\": {\n",
      "        \"1027\": {\n",
      "            \"circulating_supply\": 120773281,\n",
      "            \"id\": 1027,\n",
      "            \"last_updated\": 1652525272,\n",
      "            \"max_supply\": 0,\n",
      "            \"name\": \"Ethereum\",\n",
      "            \"quotes\": {\n",
      "                \"USD\": {\n",
      "                    \"market_cap\": 245049826188,\n",
      "                    \"percent_change_1h\": -0.0540156918957206,\n",
      "                    \"percent_change_24h\": -2.80550556587424,\n",
      "                    \"percent_change_7d\": -24.984414029275,\n",
      "                    \"percentage_change_1h\": -0.0540156918957206,\n",
      "                    \"percentage_change_24h\": -2.80550556587424,\n",
      "                    \"percentage_change_7d\": -24.984414029275,\n",
      "                    \"price\": 2025.2,\n",
      "                    \"volume_24h\": 18608799932\n",
      "                }\n",
      "            },\n",
      "            \"rank\": 2,\n",
      "            \"symbol\": \"ETH\",\n",
      "            \"total_supply\": 120773281,\n",
      "            \"website_slug\": \"ethereum\"\n",
      "        }\n",
      "    },\n",
      "    \"metadata\": {\n",
      "        \"error\": null,\n",
      "        \"num_cryptocurrencies\": 3106,\n",
      "        \"timestamp\": 1652525272\n",
      "    }\n",
      "}\n"
     ]
    }
   ],
   "source": [
    "# Using the Python requests library, make an API call to access the current price ETH\n",
    "eth_response = requests.get(eth_url).json()\n",
    "\n",
    "# Use the json.dumps function to review the response data from the API call\n",
    "# Use the indent and sort_keys parameters to make the response object readable\n",
    "print(json.dumps(eth_response, indent=4, sort_keys=True))\n"
   ]
  },
  {
   "cell_type": "markdown",
   "metadata": {},
   "source": [
    "#### Step 3: Navigate the JSON response object to access the current price of each coin, and store each in a variable."
   ]
  },
  {
   "cell_type": "code",
   "execution_count": 60,
   "metadata": {},
   "outputs": [
    {
     "data": {
      "text/plain": [
       "29364.0"
      ]
     },
     "execution_count": 60,
     "metadata": {},
     "output_type": "execute_result"
    }
   ],
   "source": [
    "# Navigate the BTC response object to access the current price of BTC\n",
    "btc_price = btc_response[\"data\"][\"1\"][\"quotes\"][\"USD\"][\"price\"]\n",
    "\n",
    "# Print the current price of BTC\n",
    "btc_price\n"
   ]
  },
  {
   "cell_type": "code",
   "execution_count": 61,
   "metadata": {},
   "outputs": [
    {
     "data": {
      "text/plain": [
       "2025.2"
      ]
     },
     "execution_count": 61,
     "metadata": {},
     "output_type": "execute_result"
    }
   ],
   "source": [
    "# Navigate the BTC response object to access the current price of ETH\n",
    "eth_price = eth_response[\"data\"][\"1027\"][\"quotes\"][\"USD\"][\"price\"]\n",
    "\n",
    "# Print the current price of ETH\n",
    "eth_price\n"
   ]
  },
  {
   "cell_type": "markdown",
   "metadata": {},
   "source": [
    "### Step 4: Calculate the value, in US dollars, of the current amount of each cryptocurrency and of the entire cryptocurrency wallet."
   ]
  },
  {
   "cell_type": "code",
   "execution_count": 62,
   "metadata": {},
   "outputs": [
    {
     "name": "stdout",
     "output_type": "stream",
     "text": [
      "Current value of your BTC holiding is $35236.799999999996\n"
     ]
    }
   ],
   "source": [
    "# Compute the current value of the BTC holding \n",
    "btc_value = btc_price * btc_coins\n",
    "\n",
    "# Print current value of your holding in BTC\n",
    "print(f\"Current value of your BTC holiding is ${btc_value}\")\n"
   ]
  },
  {
   "cell_type": "code",
   "execution_count": 63,
   "metadata": {},
   "outputs": [
    {
     "name": "stdout",
     "output_type": "stream",
     "text": [
      "Current value of your ETH holiding is $10733.56\n"
     ]
    }
   ],
   "source": [
    "# Compute the current value of the ETH holding \n",
    "eth_value = eth_price * eth_coins\n",
    "\n",
    "# Print current value of your holding in ETH\n",
    "print(f\"Current value of your ETH holiding is ${eth_value}\")\n"
   ]
  },
  {
   "cell_type": "code",
   "execution_count": 64,
   "metadata": {},
   "outputs": [
    {
     "name": "stdout",
     "output_type": "stream",
     "text": [
      "Total value of BTC and ETH held in your wallet is $45970.35999999999\n"
     ]
    }
   ],
   "source": [
    "# Compute the total value of the cryptocurrency wallet\n",
    "# Add the value of the BTC holding to the value of the ETH holding\n",
    "total_crypto_wallet = btc_value + eth_value\n",
    "\n",
    "# Print current cryptocurrency wallet balance\n",
    "print(f\"Total value of BTC and ETH held in your wallet is ${total_crypto_wallet}\")\n"
   ]
  },
  {
   "cell_type": "markdown",
   "metadata": {},
   "source": [
    "### Evaluate the Stock and Bond Holdings by Using the Alpaca SDK\n",
    "\n",
    "In this section, you’ll determine the current value of a member’s stock and bond holdings. You’ll make an API call to Alpaca via the Alpaca SDK to get the current closing prices of the SPDR S&P 500 ETF Trust (ticker: SPY) and of the iShares Core US Aggregate Bond ETF (ticker: AGG). For the prototype, assume that the member holds 110 shares of SPY, which represents the stock portion of their portfolio, and 200 shares of AGG, which represents the bond portion. To do all this, complete the following steps:\n",
    "\n",
    "1. In the `Starter_Code` folder, create an environment file (`.env`) to store the values of your Alpaca API key and Alpaca secret key.\n",
    "\n",
    "2. Set the variables for the Alpaca API and secret keys. Using the Alpaca SDK, create the Alpaca `tradeapi.REST` object. In this object, include the parameters for the Alpaca API key, the secret key, and the version number.\n",
    "\n",
    "3. Set the following parameters for the Alpaca API call:\n",
    "\n",
    "    - `tickers`: Use the tickers for the member’s stock and bond holdings.\n",
    "\n",
    "    - `timeframe`: Use a time frame of one day.\n",
    "\n",
    "    - `start_date` and `end_date`: Use the same date for these parameters, and format them with the date of the previous weekday (or `2020-08-07`). This is because you want the one closing price for the most-recent trading day.\n",
    "\n",
    "4. Get the current closing prices for `SPY` and `AGG` by using the Alpaca `get_bars` function. Format the response as a Pandas DataFrame by including the `df` property at the end of the `get_bars` function.\n",
    "\n",
    "5. Navigating the Alpaca response DataFrame, select the `SPY` and `AGG` closing prices, and store them as variables.\n",
    "\n",
    "6. Calculate the value, in US dollars, of the current amount of shares in each of the stock and bond portions of the portfolio, and print the results.\n"
   ]
  },
  {
   "cell_type": "markdown",
   "metadata": {},
   "source": [
    "#### Review the total number of shares held in both (SPY) and (AGG)."
   ]
  },
  {
   "cell_type": "code",
   "execution_count": 65,
   "metadata": {},
   "outputs": [],
   "source": [
    "# Current amount of shares held in both the stock (SPY) and bond (AGG) portion of the portfolio.\n",
    "spy_shares = 110\n",
    "agg_shares = 200\n"
   ]
  },
  {
   "cell_type": "markdown",
   "metadata": {},
   "source": [
    "#### Step 1: In the `Starter_Code` folder, create an environment file (`.env`) to store the values of your Alpaca API key and Alpaca secret key."
   ]
  },
  {
   "cell_type": "markdown",
   "metadata": {},
   "source": [
    "#### Step 2: Set the variables for the Alpaca API and secret keys. Using the Alpaca SDK, create the Alpaca `tradeapi.REST` object. In this object, include the parameters for the Alpaca API key, the secret key, and the version number."
   ]
  },
  {
   "cell_type": "code",
   "execution_count": 66,
   "metadata": {},
   "outputs": [],
   "source": [
    "# Set the variables for the Alpaca API and secret keys\n",
    "alpaca_api_key = os.getenv(\"ALPACA_API_KEY\")\n",
    "alpaca_secret_key = os.getenv(\"ALPACA_SECRET_KEY\")\n",
    "\n",
    "# Create the Alpaca tradeapi.REST object\n",
    "alpaca = tradeapi.REST(\n",
    "    alpaca_api_key,\n",
    "    alpaca_secret_key,\n",
    "    api_version=\"v2\")\n"
   ]
  },
  {
   "cell_type": "markdown",
   "metadata": {},
   "source": [
    "#### Step 3: Set the following parameters for the Alpaca API call:\n",
    "\n",
    "- `tickers`: Use the tickers for the member’s stock and bond holdings.\n",
    "\n",
    "- `timeframe`: Use a time frame of one day.\n",
    "\n",
    "- `start_date` and `end_date`: Use the same date for these parameters, and format them with the date of the previous weekday (or `2020-08-07`). This is because you want the one closing price for the most-recent trading day.\n"
   ]
  },
  {
   "cell_type": "code",
   "execution_count": 67,
   "metadata": {},
   "outputs": [],
   "source": [
    "# Set the tickers for both the bond and stock portion of the portfolio\n",
    "tickers = [\"SPY\", \"AGG\"]\n",
    "\n",
    "# Set timeframe to 1Day\n",
    "timeframe = \"1Day\"\n",
    "\n",
    "# Format current date as ISO format\n",
    "# Set both the start and end date at the date of your prior weekday \n",
    "# This will give you the closing price of the previous trading day\n",
    "# Alternatively you can use a start and end date of 2020-08-07\n",
    "start_date = pd.Timestamp(\"2020-08-07\", tz=\"America/New_York\").isoformat()\n",
    "end_date = pd.Timestamp(\"2020-08-07\", tz=\"America/New_York\").isoformat()\n"
   ]
  },
  {
   "cell_type": "markdown",
   "metadata": {},
   "source": [
    "#### Step 4: Get the current closing prices for `SPY` and `AGG` by using the Alpaca `get_bars` function. Format the response as a Pandas DataFrame by including the `df` property at the end of the `get_bars` function."
   ]
  },
  {
   "cell_type": "code",
   "execution_count": 68,
   "metadata": {},
   "outputs": [
    {
     "data": {
      "text/html": [
       "<div>\n",
       "<style scoped>\n",
       "    .dataframe tbody tr th:only-of-type {\n",
       "        vertical-align: middle;\n",
       "    }\n",
       "\n",
       "    .dataframe tbody tr th {\n",
       "        vertical-align: top;\n",
       "    }\n",
       "\n",
       "    .dataframe thead tr th {\n",
       "        text-align: left;\n",
       "    }\n",
       "\n",
       "    .dataframe thead tr:last-of-type th {\n",
       "        text-align: right;\n",
       "    }\n",
       "</style>\n",
       "<table border=\"1\" class=\"dataframe\">\n",
       "  <thead>\n",
       "    <tr>\n",
       "      <th></th>\n",
       "      <th colspan=\"7\" halign=\"left\">SPY</th>\n",
       "      <th colspan=\"7\" halign=\"left\">AGG</th>\n",
       "    </tr>\n",
       "    <tr>\n",
       "      <th></th>\n",
       "      <th>open</th>\n",
       "      <th>high</th>\n",
       "      <th>low</th>\n",
       "      <th>close</th>\n",
       "      <th>volume</th>\n",
       "      <th>trade_count</th>\n",
       "      <th>vwap</th>\n",
       "      <th>open</th>\n",
       "      <th>high</th>\n",
       "      <th>low</th>\n",
       "      <th>close</th>\n",
       "      <th>volume</th>\n",
       "      <th>trade_count</th>\n",
       "      <th>vwap</th>\n",
       "    </tr>\n",
       "    <tr>\n",
       "      <th>timestamp</th>\n",
       "      <th></th>\n",
       "      <th></th>\n",
       "      <th></th>\n",
       "      <th></th>\n",
       "      <th></th>\n",
       "      <th></th>\n",
       "      <th></th>\n",
       "      <th></th>\n",
       "      <th></th>\n",
       "      <th></th>\n",
       "      <th></th>\n",
       "      <th></th>\n",
       "      <th></th>\n",
       "      <th></th>\n",
       "    </tr>\n",
       "  </thead>\n",
       "  <tbody>\n",
       "    <tr>\n",
       "      <th>2020-08-07 04:00:00+00:00</th>\n",
       "      <td>333.29</td>\n",
       "      <td>334.88</td>\n",
       "      <td>332.3</td>\n",
       "      <td>334.57</td>\n",
       "      <td>57282821</td>\n",
       "      <td>350100</td>\n",
       "      <td>333.800372</td>\n",
       "      <td>119.66</td>\n",
       "      <td>119.73</td>\n",
       "      <td>119.395</td>\n",
       "      <td>119.43</td>\n",
       "      <td>5559066</td>\n",
       "      <td>15246</td>\n",
       "      <td>119.475306</td>\n",
       "    </tr>\n",
       "  </tbody>\n",
       "</table>\n",
       "</div>"
      ],
      "text/plain": [
       "                              SPY                                   \\\n",
       "                             open    high    low   close    volume   \n",
       "timestamp                                                            \n",
       "2020-08-07 04:00:00+00:00  333.29  334.88  332.3  334.57  57282821   \n",
       "\n",
       "                                                      AGG                   \\\n",
       "                          trade_count        vwap    open    high      low   \n",
       "timestamp                                                                    \n",
       "2020-08-07 04:00:00+00:00      350100  333.800372  119.66  119.73  119.395   \n",
       "\n",
       "                                                                    \n",
       "                            close   volume trade_count        vwap  \n",
       "timestamp                                                           \n",
       "2020-08-07 04:00:00+00:00  119.43  5559066       15246  119.475306  "
      ]
     },
     "execution_count": 68,
     "metadata": {},
     "output_type": "execute_result"
    }
   ],
   "source": [
    "# Use the Alpaca get_bars function to get current closing prices the portfolio\n",
    "# Be sure to set the `df` property after the function to format the response object as a DataFrame\n",
    "df_ticker = alpaca.get_bars(tickers, timeframe, start=start_date, end=end_date).df\n",
    "\n",
    "# Reorganize the DataFrame\n",
    "# Separate ticker data\n",
    "SPY = df_ticker[df_ticker['symbol']=='SPY'].drop('symbol', axis=1)\n",
    "AGG = df_ticker[df_ticker['symbol']=='AGG'].drop('symbol', axis=1)\n",
    "\n",
    "# Concatenate the ticker DataFrames\n",
    "df_ticker = pd.concat([SPY, AGG], axis=1, keys=[\"SPY\",\"AGG\"])\n",
    "\n",
    "# Review the first 5 rows of the Alpaca DataFrame\n",
    "df_ticker.head()\n"
   ]
  },
  {
   "cell_type": "markdown",
   "metadata": {},
   "source": [
    "#### Step 5: Navigating the Alpaca response DataFrame, select the `SPY` and `AGG` closing prices, and store them as variables."
   ]
  },
  {
   "cell_type": "code",
   "execution_count": 69,
   "metadata": {},
   "outputs": [
    {
     "data": {
      "text/plain": [
       "119.43"
      ]
     },
     "execution_count": 69,
     "metadata": {},
     "output_type": "execute_result"
    }
   ],
   "source": [
    "# Access the closing price for AGG from the Alpaca DataFrame\n",
    "# Converting the value to a floating point number\n",
    "agg_close_price = df_ticker[\"AGG\"][\"close\"]\n",
    "agg_close_price.index = agg_close_price.index.date\n",
    "# Print the AGG closing price\n",
    "float(agg_close_price)\n"
   ]
  },
  {
   "cell_type": "code",
   "execution_count": 70,
   "metadata": {},
   "outputs": [
    {
     "data": {
      "text/plain": [
       "334.57"
      ]
     },
     "execution_count": 70,
     "metadata": {},
     "output_type": "execute_result"
    }
   ],
   "source": [
    "# Access the closing price for SPY from the Alpaca DataFrame\n",
    "# Converting the value to a floating point number\n",
    "spy_close_price = df_ticker[\"SPY\"][\"close\"]\n",
    "spy_close_price.index = spy_close_price.index.date\n",
    "# Print the SPY closing price\n",
    "float(spy_close_price)\n"
   ]
  },
  {
   "cell_type": "markdown",
   "metadata": {},
   "source": [
    "#### Step 6: Calculate the value, in US dollars, of the current amount of shares in each of the stock and bond portions of the portfolio, and print the results."
   ]
  },
  {
   "cell_type": "code",
   "execution_count": 71,
   "metadata": {},
   "outputs": [
    {
     "data": {
      "text/plain": [
       "'Current value of the bond portfolio is $'"
      ]
     },
     "metadata": {},
     "output_type": "display_data"
    },
    {
     "data": {
      "text/plain": [
       "23886.0"
      ]
     },
     "execution_count": 71,
     "metadata": {},
     "output_type": "execute_result"
    }
   ],
   "source": [
    "# Calculate the current value of the bond portion of the portfolio\n",
    "agg_value = float(agg_close_price) * agg_shares\n",
    "\n",
    "# Print the current value of the bond portfolio\n",
    "display (\"Current value of the bond portfolio is $\")\n",
    "(agg_value)\n"
   ]
  },
  {
   "cell_type": "code",
   "execution_count": 72,
   "metadata": {},
   "outputs": [
    {
     "data": {
      "text/plain": [
       "'Current value of the stock portfolio is $'"
      ]
     },
     "metadata": {},
     "output_type": "display_data"
    },
    {
     "data": {
      "text/plain": [
       "36802.7"
      ]
     },
     "execution_count": 72,
     "metadata": {},
     "output_type": "execute_result"
    }
   ],
   "source": [
    "# Calculate the current value of the stock portion of the portfolio\n",
    "spy_value = float(spy_close_price) * spy_shares\n",
    "\n",
    "# Print the current value of the stock portfolio\n",
    "display(\"Current value of the stock portfolio is $\")\n",
    "spy_value\n"
   ]
  },
  {
   "cell_type": "code",
   "execution_count": 73,
   "metadata": {},
   "outputs": [
    {
     "data": {
      "text/plain": [
       "60688.7"
      ]
     },
     "execution_count": 73,
     "metadata": {},
     "output_type": "execute_result"
    }
   ],
   "source": [
    "# Calculate the total value of the stock and bond portion of the portfolio\n",
    "total_stocks_bonds = agg_value + spy_value\n",
    "\n",
    "# Print the current balance of the stock and bond portion of the portfolio\n",
    "(total_stocks_bonds)\n"
   ]
  },
  {
   "cell_type": "code",
   "execution_count": 74,
   "metadata": {},
   "outputs": [
    {
     "data": {
      "text/plain": [
       "106659.06"
      ]
     },
     "execution_count": 74,
     "metadata": {},
     "output_type": "execute_result"
    }
   ],
   "source": [
    "# Calculate the total value of the member's entire savings portfolio\n",
    "# Add the value of the cryptocurrency walled to the value of the total stocks and bonds\n",
    "total_portfolio = total_stocks_bonds + total_crypto_wallet\n",
    "\n",
    "# Print current cryptocurrency wallet balance\n",
    "total_portfolio\n"
   ]
  },
  {
   "cell_type": "markdown",
   "metadata": {},
   "source": [
    "### Evaluate the Emergency Fund\n",
    "\n",
    "In this section, you’ll use the valuations for the cryptocurrency wallet and for the stock and bond portions of the portfolio to determine if the credit union member has enough savings to build an emergency fund into their financial plan. To do this, complete the following steps:\n",
    "\n",
    "1. Create a Python list named `savings_data` that has two elements. The first element contains the total value of the cryptocurrency wallet. The second element contains the total value of the stock and bond portions of the portfolio.\n",
    "\n",
    "2. Use the `savings_data` list to create a Pandas DataFrame named `savings_df`, and then display this DataFrame. The function to create the DataFrame should take the following three parameters:\n",
    "\n",
    "    - `savings_data`: Use the list that you just created.\n",
    "\n",
    "    - `columns`: Set this parameter equal to a Python list with a single value called `amount`.\n",
    "\n",
    "    - `index`: Set this parameter equal to a Python list with the values of `crypto` and `stock/bond`.\n",
    "\n",
    "3. Use the `savings_df` DataFrame to plot a pie chart that visualizes the composition of the member’s portfolio. The y-axis of the pie chart uses `amount`. Be sure to add a title.\n",
    "\n",
    "4. Using Python, determine if the current portfolio has enough to create an emergency fund as part of the member’s financial plan. Ideally, an emergency fund should equal to three times the member’s monthly income. To do this, implement the following steps:\n",
    "\n",
    "    1. Create a variable named `emergency_fund_value`, and set it equal to three times the value of the member’s `monthly_income` of $12000. (You set this earlier in Part 1).\n",
    "\n",
    "    2. Create a series of three if statements to determine if the member’s total portfolio is large enough to fund the emergency portfolio:\n",
    "\n",
    "        1. If the total portfolio value is greater than the emergency fund value, display a message congratulating the member for having enough money in this fund.\n",
    "\n",
    "        2. Else if the total portfolio value is equal to the emergency fund value, display a message congratulating the member on reaching this important financial goal.\n",
    "\n",
    "        3. Else the total portfolio is less than the emergency fund value, so display a message showing how many dollars away the member is from reaching the goal. (Subtract the total portfolio value from the emergency fund value.)\n"
   ]
  },
  {
   "cell_type": "markdown",
   "metadata": {},
   "source": [
    "#### Step 1: Create a Python list named `savings_data` that has two elements. The first element contains the total value of the cryptocurrency wallet. The second element contains the total value of the stock and bond portions of the portfolio."
   ]
  },
  {
   "cell_type": "code",
   "execution_count": 75,
   "metadata": {},
   "outputs": [
    {
     "data": {
      "text/plain": [
       "[45970.35999999999, 60688.7]"
      ]
     },
     "execution_count": 75,
     "metadata": {},
     "output_type": "execute_result"
    }
   ],
   "source": [
    "# Consolidate financial assets data into a Python list\n",
    "savings_data = [total_crypto_wallet, total_stocks_bonds]\n",
    "\n",
    "# Review the Python list savings_data\n",
    "savings_data\n",
    "    "
   ]
  },
  {
   "cell_type": "markdown",
   "metadata": {},
   "source": [
    "#### Step 2: Use the `savings_data` list to create a Pandas DataFrame named `savings_df`, and then display this DataFrame. The function to create the DataFrame should take the following three parameters:\n",
    "\n",
    "- `savings_data`: Use the list that you just created.\n",
    "\n",
    "- `columns`: Set this parameter equal to a Python list with a single value called `amount`.\n",
    "\n",
    "- `index`: Set this parameter equal to a Python list with the values of `crypto` and `stock/bond`.\n"
   ]
  },
  {
   "cell_type": "code",
   "execution_count": 76,
   "metadata": {},
   "outputs": [
    {
     "data": {
      "text/html": [
       "<div>\n",
       "<style scoped>\n",
       "    .dataframe tbody tr th:only-of-type {\n",
       "        vertical-align: middle;\n",
       "    }\n",
       "\n",
       "    .dataframe tbody tr th {\n",
       "        vertical-align: top;\n",
       "    }\n",
       "\n",
       "    .dataframe thead th {\n",
       "        text-align: right;\n",
       "    }\n",
       "</style>\n",
       "<table border=\"1\" class=\"dataframe\">\n",
       "  <thead>\n",
       "    <tr style=\"text-align: right;\">\n",
       "      <th></th>\n",
       "      <th>amount</th>\n",
       "    </tr>\n",
       "  </thead>\n",
       "  <tbody>\n",
       "    <tr>\n",
       "      <th>crypto</th>\n",
       "      <td>45970.36</td>\n",
       "    </tr>\n",
       "    <tr>\n",
       "      <th>stock/bond</th>\n",
       "      <td>60688.70</td>\n",
       "    </tr>\n",
       "  </tbody>\n",
       "</table>\n",
       "</div>"
      ],
      "text/plain": [
       "              amount\n",
       "crypto      45970.36\n",
       "stock/bond  60688.70"
      ]
     },
     "execution_count": 76,
     "metadata": {},
     "output_type": "execute_result"
    }
   ],
   "source": [
    "# Create a Pandas DataFrame called savings_df \n",
    "\n",
    "savings_df = pd.DataFrame(savings_data, columns=['amount'], index=['crypto', 'stock/bond'])\n",
    "\n",
    "# Display the savings_df DataFrame\n",
    "savings_df\n"
   ]
  },
  {
   "cell_type": "markdown",
   "metadata": {},
   "source": [
    "#### Step 3: Use the `savings_df` DataFrame to plot a pie chart that visualizes the composition of the member’s portfolio. The y-axis of the pie chart uses `amount`. Be sure to add a title."
   ]
  },
  {
   "cell_type": "code",
   "execution_count": 77,
   "metadata": {},
   "outputs": [
    {
     "data": {
      "text/plain": [
       "<AxesSubplot:title={'center':'Total value of your portfolio'}, ylabel='amount'>"
      ]
     },
     "execution_count": 77,
     "metadata": {},
     "output_type": "execute_result"
    },
    {
     "data": {
      "image/png": "[encoded data removed]",
      "text/plain": [
       "<Figure size 720x504 with 1 Axes>"
      ]
     },
     "metadata": {},
     "output_type": "display_data"
    }
   ],
   "source": [
    "# Plot the total value of the member's portfolio (crypto and stock/bond) in a pie chart\n",
    "savings_df.plot.pie(y='amount', figsize=(10,7), title=\"Total value of your portfolio\")\n"
   ]
  },
  {
   "cell_type": "markdown",
   "metadata": {},
   "source": [
    "#### Step 4: Using Python, determine if the current portfolio has enough to create an emergency fund as part of the member’s financial plan. Ideally, an emergency fund should equal to three times the member’s monthly income. To do this, implement the following steps:\n",
    "\n",
    "Step 1. Create a variable named `emergency_fund_value`, and set it equal to three times the value of the member’s `monthly_income` of 12000. (You set this earlier in Part 1).\n",
    "\n",
    "Step 2. Create a series of three if statements to determine if the member’s total portfolio is large enough to fund the emergency portfolio:\n",
    "\n",
    "* If the total portfolio value is greater than the emergency fund value, display a message congratulating the member for having enough money in this fund.\n",
    "\n",
    "* Else if the total portfolio value is equal to the emergency fund value, display a message congratulating the member on reaching this important financial goal.\n",
    "\n",
    "* Else the total portfolio is less than the emergency fund value, so display a message showing how many dollars away the member is from reaching the goal. (Subtract the total portfolio value from the emergency fund value.)\n"
   ]
  },
  {
   "cell_type": "markdown",
   "metadata": {},
   "source": [
    "##### Step 4-1: Create a variable named `emergency_fund_value`, and set it equal to three times the value of the member’s `monthly_income` of 12000. (You set this earlier in Part 1)."
   ]
  },
  {
   "cell_type": "code",
   "execution_count": 78,
   "metadata": {},
   "outputs": [],
   "source": [
    "# Create a variable named emergency_fund_value\n",
    "emergency_fund_value = monthly_income * 3\n"
   ]
  },
  {
   "cell_type": "markdown",
   "metadata": {},
   "source": [
    "##### Step 4-2: Create a series of three if statements to determine if the member’s total portfolio is large enough to fund the emergency portfolio:\n",
    "\n",
    "* If the total portfolio value is greater than the emergency fund value, display a message congratulating the member for having enough money in this fund.\n",
    "\n",
    "* Else if the total portfolio value is equal to the emergency fund value, display a message congratulating the member on reaching this important financial goal.\n",
    "\n",
    "* Else the total portfolio is less than the emergency fund value, so display a message showing how many dollars away the member is from reaching the goal. (Subtract the total portfolio value from the emergency fund value.)"
   ]
  },
  {
   "cell_type": "code",
   "execution_count": 79,
   "metadata": {},
   "outputs": [
    {
     "name": "stdout",
     "output_type": "stream",
     "text": [
      "Congratulations for having enough money is this fund!\n"
     ]
    }
   ],
   "source": [
    "# Evaluate the possibility of creating an emergency fund with 3 conditions:\n",
    "if total_portfolio > emergency_fund_value:\n",
    "    print(f\"Congratulations for having enough money is this fund!\"),\n",
    "    \n",
    "elif total_portfolio == emergency_fund_value:\n",
    "    print(f\"Congratulations on reaching this important financial goal!\")\n",
    "\n",
    "else:\n",
    "    print(f\"You are close to reaching your emergency fund goal.  You need to save another ${emergency_fund_value - total_portfolio} to reach your goal\")\n",
    "# YOUR CODE HERE\n",
    "# YOUR CODE HERE\n"
   ]
  },
  {
   "cell_type": "markdown",
   "metadata": {},
   "source": [
    "## Part 2: Create a Financial Planner for Retirement"
   ]
  },
  {
   "cell_type": "markdown",
   "metadata": {},
   "source": [
    "### Create the Monte Carlo Simulation\n",
    "\n",
    "In this section, you’ll use the MCForecastTools library to create a Monte Carlo simulation for the member’s savings portfolio. To do this, complete the following steps:\n",
    "\n",
    "1. Make an API call via the Alpaca SDK to get 3 years of historical closing prices for a traditional 60/40 portfolio split: 60% stocks (SPY) and 40% bonds (AGG).\n",
    "\n",
    "2. Run a Monte Carlo simulation of 500 samples and 30 years for the 60/40 portfolio, and then plot the results.The following image shows the overlay line plot resulting from a simulation with these characteristics. However, because a random number generator is used to run each live Monte Carlo simulation, your image will differ slightly from this exact image:\n",
    "\n",
    "![A screenshot depicts the resulting plot.](Images/5-4-monte-carlo-line-plot.png)\n",
    "\n",
    "3. Plot the probability distribution of the Monte Carlo simulation. Plot the probability distribution of the Monte Carlo simulation. The following image shows the histogram plot resulting from a simulation with these characteristics. However, because a random number generator is used to run each live Monte Carlo simulation, your image will differ slightly from this exact image:\n",
    "\n",
    "![A screenshot depicts the histogram plot.](Images/5-4-monte-carlo-histogram.png)\n",
    "\n",
    "4. Generate the summary statistics for the Monte Carlo simulation.\n",
    "\n"
   ]
  },
  {
   "cell_type": "markdown",
   "metadata": {},
   "source": [
    "#### Step 1: Make an API call via the Alpaca SDK to get 3 years of historical closing prices for a traditional 60/40 portfolio split: 60% stocks (SPY) and 40% bonds (AGG)."
   ]
  },
  {
   "cell_type": "code",
   "execution_count": 91,
   "metadata": {},
   "outputs": [],
   "source": [
    "# Set start and end dates of 3 years back from your current date\n",
    "# Alternatively, you can use an end date of 2020-08-07 and work 3 years back from that date \n",
    "start_date_1 = pd.Timestamp(\"2019-05-13\", tz=\"America/New_York\").isoformat()\n",
    "end_date_1 = pd.Timestamp(\"2022-05-13\", tz=\"America/New_York\").isoformat()\n",
    "\n",
    "# Set number of rows to 1000 to retrieve the maximum amount of rows\n",
    "limit_rows = 1000"
   ]
  },
  {
   "cell_type": "code",
   "execution_count": 100,
   "metadata": {},
   "outputs": [
    {
     "data": {
      "text/html": [
       "<div>\n",
       "<style scoped>\n",
       "    .dataframe tbody tr th:only-of-type {\n",
       "        vertical-align: middle;\n",
       "    }\n",
       "\n",
       "    .dataframe tbody tr th {\n",
       "        vertical-align: top;\n",
       "    }\n",
       "\n",
       "    .dataframe thead tr th {\n",
       "        text-align: left;\n",
       "    }\n",
       "\n",
       "    .dataframe thead tr:last-of-type th {\n",
       "        text-align: right;\n",
       "    }\n",
       "</style>\n",
       "<table border=\"1\" class=\"dataframe\">\n",
       "  <thead>\n",
       "    <tr>\n",
       "      <th></th>\n",
       "      <th colspan=\"7\" halign=\"left\">SPY</th>\n",
       "      <th colspan=\"7\" halign=\"left\">AGG</th>\n",
       "    </tr>\n",
       "    <tr>\n",
       "      <th></th>\n",
       "      <th>open</th>\n",
       "      <th>high</th>\n",
       "      <th>low</th>\n",
       "      <th>close</th>\n",
       "      <th>volume</th>\n",
       "      <th>trade_count</th>\n",
       "      <th>vwap</th>\n",
       "      <th>open</th>\n",
       "      <th>high</th>\n",
       "      <th>low</th>\n",
       "      <th>close</th>\n",
       "      <th>volume</th>\n",
       "      <th>trade_count</th>\n",
       "      <th>vwap</th>\n",
       "    </tr>\n",
       "    <tr>\n",
       "      <th>timestamp</th>\n",
       "      <th></th>\n",
       "      <th></th>\n",
       "      <th></th>\n",
       "      <th></th>\n",
       "      <th></th>\n",
       "      <th></th>\n",
       "      <th></th>\n",
       "      <th></th>\n",
       "      <th></th>\n",
       "      <th></th>\n",
       "      <th></th>\n",
       "      <th></th>\n",
       "      <th></th>\n",
       "      <th></th>\n",
       "    </tr>\n",
       "  </thead>\n",
       "  <tbody>\n",
       "    <tr>\n",
       "      <th>2019-05-13 04:00:00+00:00</th>\n",
       "      <td>282.39</td>\n",
       "      <td>283.49</td>\n",
       "      <td>279.9300</td>\n",
       "      <td>280.86</td>\n",
       "      <td>127837979</td>\n",
       "      <td>670187</td>\n",
       "      <td>281.560182</td>\n",
       "      <td>108.83</td>\n",
       "      <td>108.9768</td>\n",
       "      <td>108.815</td>\n",
       "      <td>108.85</td>\n",
       "      <td>6733774</td>\n",
       "      <td>18575</td>\n",
       "      <td>108.884846</td>\n",
       "    </tr>\n",
       "    <tr>\n",
       "      <th>2019-05-14 04:00:00+00:00</th>\n",
       "      <td>282.01</td>\n",
       "      <td>285.10</td>\n",
       "      <td>281.8500</td>\n",
       "      <td>283.40</td>\n",
       "      <td>77106090</td>\n",
       "      <td>390251</td>\n",
       "      <td>283.609239</td>\n",
       "      <td>108.90</td>\n",
       "      <td>108.9700</td>\n",
       "      <td>108.870</td>\n",
       "      <td>108.94</td>\n",
       "      <td>6217044</td>\n",
       "      <td>21837</td>\n",
       "      <td>108.919203</td>\n",
       "    </tr>\n",
       "    <tr>\n",
       "      <th>2019-05-15 04:00:00+00:00</th>\n",
       "      <td>281.60</td>\n",
       "      <td>285.77</td>\n",
       "      <td>281.3600</td>\n",
       "      <td>285.06</td>\n",
       "      <td>75152409</td>\n",
       "      <td>364823</td>\n",
       "      <td>284.276653</td>\n",
       "      <td>109.16</td>\n",
       "      <td>109.1800</td>\n",
       "      <td>109.000</td>\n",
       "      <td>109.13</td>\n",
       "      <td>2667156</td>\n",
       "      <td>12362</td>\n",
       "      <td>109.089171</td>\n",
       "    </tr>\n",
       "    <tr>\n",
       "      <th>2019-05-16 04:00:00+00:00</th>\n",
       "      <td>285.83</td>\n",
       "      <td>289.21</td>\n",
       "      <td>285.7600</td>\n",
       "      <td>287.70</td>\n",
       "      <td>77186068</td>\n",
       "      <td>352847</td>\n",
       "      <td>287.797144</td>\n",
       "      <td>109.04</td>\n",
       "      <td>109.0400</td>\n",
       "      <td>108.950</td>\n",
       "      <td>109.00</td>\n",
       "      <td>2756957</td>\n",
       "      <td>9263</td>\n",
       "      <td>108.993556</td>\n",
       "    </tr>\n",
       "    <tr>\n",
       "      <th>2019-05-17 04:00:00+00:00</th>\n",
       "      <td>285.13</td>\n",
       "      <td>288.60</td>\n",
       "      <td>285.1207</td>\n",
       "      <td>285.84</td>\n",
       "      <td>100853024</td>\n",
       "      <td>401172</td>\n",
       "      <td>286.609816</td>\n",
       "      <td>109.12</td>\n",
       "      <td>109.1450</td>\n",
       "      <td>108.935</td>\n",
       "      <td>109.03</td>\n",
       "      <td>2092402</td>\n",
       "      <td>7452</td>\n",
       "      <td>109.023836</td>\n",
       "    </tr>\n",
       "  </tbody>\n",
       "</table>\n",
       "</div>"
      ],
      "text/plain": [
       "                              SPY                                       \\\n",
       "                             open    high       low   close     volume   \n",
       "timestamp                                                                \n",
       "2019-05-13 04:00:00+00:00  282.39  283.49  279.9300  280.86  127837979   \n",
       "2019-05-14 04:00:00+00:00  282.01  285.10  281.8500  283.40   77106090   \n",
       "2019-05-15 04:00:00+00:00  281.60  285.77  281.3600  285.06   75152409   \n",
       "2019-05-16 04:00:00+00:00  285.83  289.21  285.7600  287.70   77186068   \n",
       "2019-05-17 04:00:00+00:00  285.13  288.60  285.1207  285.84  100853024   \n",
       "\n",
       "                                                      AGG                     \\\n",
       "                          trade_count        vwap    open      high      low   \n",
       "timestamp                                                                      \n",
       "2019-05-13 04:00:00+00:00      670187  281.560182  108.83  108.9768  108.815   \n",
       "2019-05-14 04:00:00+00:00      390251  283.609239  108.90  108.9700  108.870   \n",
       "2019-05-15 04:00:00+00:00      364823  284.276653  109.16  109.1800  109.000   \n",
       "2019-05-16 04:00:00+00:00      352847  287.797144  109.04  109.0400  108.950   \n",
       "2019-05-17 04:00:00+00:00      401172  286.609816  109.12  109.1450  108.935   \n",
       "\n",
       "                                                                    \n",
       "                            close   volume trade_count        vwap  \n",
       "timestamp                                                           \n",
       "2019-05-13 04:00:00+00:00  108.85  6733774       18575  108.884846  \n",
       "2019-05-14 04:00:00+00:00  108.94  6217044       21837  108.919203  \n",
       "2019-05-15 04:00:00+00:00  109.13  2667156       12362  109.089171  \n",
       "2019-05-16 04:00:00+00:00  109.00  2756957        9263  108.993556  \n",
       "2019-05-17 04:00:00+00:00  109.03  2092402        7452  109.023836  "
      ]
     },
     "metadata": {},
     "output_type": "display_data"
    },
    {
     "data": {
      "text/html": [
       "<div>\n",
       "<style scoped>\n",
       "    .dataframe tbody tr th:only-of-type {\n",
       "        vertical-align: middle;\n",
       "    }\n",
       "\n",
       "    .dataframe tbody tr th {\n",
       "        vertical-align: top;\n",
       "    }\n",
       "\n",
       "    .dataframe thead tr th {\n",
       "        text-align: left;\n",
       "    }\n",
       "\n",
       "    .dataframe thead tr:last-of-type th {\n",
       "        text-align: right;\n",
       "    }\n",
       "</style>\n",
       "<table border=\"1\" class=\"dataframe\">\n",
       "  <thead>\n",
       "    <tr>\n",
       "      <th></th>\n",
       "      <th colspan=\"7\" halign=\"left\">SPY</th>\n",
       "      <th colspan=\"7\" halign=\"left\">AGG</th>\n",
       "    </tr>\n",
       "    <tr>\n",
       "      <th></th>\n",
       "      <th>open</th>\n",
       "      <th>high</th>\n",
       "      <th>low</th>\n",
       "      <th>close</th>\n",
       "      <th>volume</th>\n",
       "      <th>trade_count</th>\n",
       "      <th>vwap</th>\n",
       "      <th>open</th>\n",
       "      <th>high</th>\n",
       "      <th>low</th>\n",
       "      <th>close</th>\n",
       "      <th>volume</th>\n",
       "      <th>trade_count</th>\n",
       "      <th>vwap</th>\n",
       "    </tr>\n",
       "    <tr>\n",
       "      <th>timestamp</th>\n",
       "      <th></th>\n",
       "      <th></th>\n",
       "      <th></th>\n",
       "      <th></th>\n",
       "      <th></th>\n",
       "      <th></th>\n",
       "      <th></th>\n",
       "      <th></th>\n",
       "      <th></th>\n",
       "      <th></th>\n",
       "      <th></th>\n",
       "      <th></th>\n",
       "      <th></th>\n",
       "      <th></th>\n",
       "    </tr>\n",
       "  </thead>\n",
       "  <tbody>\n",
       "    <tr>\n",
       "      <th>2022-05-09 04:00:00+00:00</th>\n",
       "      <td>405.20</td>\n",
       "      <td>406.41</td>\n",
       "      <td>396.50</td>\n",
       "      <td>398.17</td>\n",
       "      <td>156333670</td>\n",
       "      <td>1408490</td>\n",
       "      <td>401.884780</td>\n",
       "      <td>101.54</td>\n",
       "      <td>102.100</td>\n",
       "      <td>101.475</td>\n",
       "      <td>102.07</td>\n",
       "      <td>8548918</td>\n",
       "      <td>27200</td>\n",
       "      <td>101.812100</td>\n",
       "    </tr>\n",
       "    <tr>\n",
       "      <th>2022-05-10 04:00:00+00:00</th>\n",
       "      <td>404.50</td>\n",
       "      <td>406.08</td>\n",
       "      <td>394.82</td>\n",
       "      <td>399.09</td>\n",
       "      <td>132731278</td>\n",
       "      <td>1458363</td>\n",
       "      <td>399.842816</td>\n",
       "      <td>102.50</td>\n",
       "      <td>102.720</td>\n",
       "      <td>102.320</td>\n",
       "      <td>102.38</td>\n",
       "      <td>16565694</td>\n",
       "      <td>46588</td>\n",
       "      <td>102.531695</td>\n",
       "    </tr>\n",
       "    <tr>\n",
       "      <th>2022-05-11 04:00:00+00:00</th>\n",
       "      <td>397.99</td>\n",
       "      <td>404.04</td>\n",
       "      <td>391.96</td>\n",
       "      <td>392.75</td>\n",
       "      <td>141196433</td>\n",
       "      <td>1516301</td>\n",
       "      <td>397.449342</td>\n",
       "      <td>102.07</td>\n",
       "      <td>102.785</td>\n",
       "      <td>101.960</td>\n",
       "      <td>102.76</td>\n",
       "      <td>15079560</td>\n",
       "      <td>42508</td>\n",
       "      <td>102.530147</td>\n",
       "    </tr>\n",
       "    <tr>\n",
       "      <th>2022-05-12 04:00:00+00:00</th>\n",
       "      <td>389.58</td>\n",
       "      <td>395.80</td>\n",
       "      <td>385.15</td>\n",
       "      <td>392.34</td>\n",
       "      <td>125230250</td>\n",
       "      <td>1476378</td>\n",
       "      <td>389.974924</td>\n",
       "      <td>102.94</td>\n",
       "      <td>103.140</td>\n",
       "      <td>102.865</td>\n",
       "      <td>102.95</td>\n",
       "      <td>9011922</td>\n",
       "      <td>29535</td>\n",
       "      <td>103.014617</td>\n",
       "    </tr>\n",
       "    <tr>\n",
       "      <th>2022-05-13 04:00:00+00:00</th>\n",
       "      <td>396.73</td>\n",
       "      <td>403.18</td>\n",
       "      <td>395.61</td>\n",
       "      <td>401.72</td>\n",
       "      <td>103901082</td>\n",
       "      <td>855050</td>\n",
       "      <td>399.875308</td>\n",
       "      <td>102.75</td>\n",
       "      <td>102.780</td>\n",
       "      <td>102.480</td>\n",
       "      <td>102.51</td>\n",
       "      <td>6701432</td>\n",
       "      <td>26730</td>\n",
       "      <td>102.590449</td>\n",
       "    </tr>\n",
       "  </tbody>\n",
       "</table>\n",
       "</div>"
      ],
      "text/plain": [
       "                              SPY                                     \\\n",
       "                             open    high     low   close     volume   \n",
       "timestamp                                                              \n",
       "2022-05-09 04:00:00+00:00  405.20  406.41  396.50  398.17  156333670   \n",
       "2022-05-10 04:00:00+00:00  404.50  406.08  394.82  399.09  132731278   \n",
       "2022-05-11 04:00:00+00:00  397.99  404.04  391.96  392.75  141196433   \n",
       "2022-05-12 04:00:00+00:00  389.58  395.80  385.15  392.34  125230250   \n",
       "2022-05-13 04:00:00+00:00  396.73  403.18  395.61  401.72  103901082   \n",
       "\n",
       "                                                      AGG                    \\\n",
       "                          trade_count        vwap    open     high      low   \n",
       "timestamp                                                                     \n",
       "2022-05-09 04:00:00+00:00     1408490  401.884780  101.54  102.100  101.475   \n",
       "2022-05-10 04:00:00+00:00     1458363  399.842816  102.50  102.720  102.320   \n",
       "2022-05-11 04:00:00+00:00     1516301  397.449342  102.07  102.785  101.960   \n",
       "2022-05-12 04:00:00+00:00     1476378  389.974924  102.94  103.140  102.865   \n",
       "2022-05-13 04:00:00+00:00      855050  399.875308  102.75  102.780  102.480   \n",
       "\n",
       "                                                                     \n",
       "                            close    volume trade_count        vwap  \n",
       "timestamp                                                            \n",
       "2022-05-09 04:00:00+00:00  102.07   8548918       27200  101.812100  \n",
       "2022-05-10 04:00:00+00:00  102.38  16565694       46588  102.531695  \n",
       "2022-05-11 04:00:00+00:00  102.76  15079560       42508  102.530147  \n",
       "2022-05-12 04:00:00+00:00  102.95   9011922       29535  103.014617  \n",
       "2022-05-13 04:00:00+00:00  102.51   6701432       26730  102.590449  "
      ]
     },
     "metadata": {},
     "output_type": "display_data"
    }
   ],
   "source": [
    "# Use the Alpaca get_bars function to make the API call to get the 3 years worth of pricing data\n",
    "# The tickers and timeframe parameters should have been set in Part 1 of this activity \n",
    "# The start and end dates should be updated with the information set above\n",
    "# Remember to add the df property to the end of the call so the response is returned as a DataFrame\n",
    "ticker_data_df = alpaca.get_bars(tickers, timeframe, start=start_date_1, end=end_date_1).df\n",
    "\n",
    "# Reorganize the DataFrame\n",
    "# Separate ticker data\n",
    "SPY = ticker_data_df[ticker_data_df['symbol']=='SPY'].drop('symbol', axis=1)\n",
    "AGG = ticker_data_df[ticker_data_df['symbol']=='AGG'].drop('symbol', axis=1)\n",
    "\n",
    "# Concatenate the ticker DataFrames\n",
    "ticker_data_df = pd.concat([SPY, AGG], axis=1, keys=[\"SPY\",\"AGG\"])\n",
    "\n",
    "# Review the first 5 rows of the Alpaca DataFrame\n",
    "display(ticker_data_df.head())\n",
    "display(ticker_data_df.tail())\n",
    "\n",
    "# Concatenate the ticker DataFrames\n",
    "# YOUR CODE HERE\n",
    "\n",
    "# Display both the first and last five rows of the DataFrame\n",
    "# YOUR CODE HERE\n",
    "# YOUR CODE HERE\n"
   ]
  },
  {
   "cell_type": "markdown",
   "metadata": {},
   "source": [
    "#### Step 2: Run a Monte Carlo simulation of 500 samples and 30 years for the 60/40 portfolio, and then plot the results."
   ]
  },
  {
   "cell_type": "code",
   "execution_count": 115,
   "metadata": {},
   "outputs": [
    {
     "data": {
      "text/html": [
       "<div>\n",
       "<style scoped>\n",
       "    .dataframe tbody tr th:only-of-type {\n",
       "        vertical-align: middle;\n",
       "    }\n",
       "\n",
       "    .dataframe tbody tr th {\n",
       "        vertical-align: top;\n",
       "    }\n",
       "\n",
       "    .dataframe thead tr th {\n",
       "        text-align: left;\n",
       "    }\n",
       "\n",
       "    .dataframe thead tr:last-of-type th {\n",
       "        text-align: right;\n",
       "    }\n",
       "</style>\n",
       "<table border=\"1\" class=\"dataframe\">\n",
       "  <thead>\n",
       "    <tr>\n",
       "      <th></th>\n",
       "      <th colspan=\"8\" halign=\"left\">SPY</th>\n",
       "      <th colspan=\"8\" halign=\"left\">AGG</th>\n",
       "    </tr>\n",
       "    <tr>\n",
       "      <th></th>\n",
       "      <th>open</th>\n",
       "      <th>high</th>\n",
       "      <th>low</th>\n",
       "      <th>close</th>\n",
       "      <th>volume</th>\n",
       "      <th>trade_count</th>\n",
       "      <th>vwap</th>\n",
       "      <th>daily_return</th>\n",
       "      <th>open</th>\n",
       "      <th>high</th>\n",
       "      <th>low</th>\n",
       "      <th>close</th>\n",
       "      <th>volume</th>\n",
       "      <th>trade_count</th>\n",
       "      <th>vwap</th>\n",
       "      <th>daily_return</th>\n",
       "    </tr>\n",
       "    <tr>\n",
       "      <th>timestamp</th>\n",
       "      <th></th>\n",
       "      <th></th>\n",
       "      <th></th>\n",
       "      <th></th>\n",
       "      <th></th>\n",
       "      <th></th>\n",
       "      <th></th>\n",
       "      <th></th>\n",
       "      <th></th>\n",
       "      <th></th>\n",
       "      <th></th>\n",
       "      <th></th>\n",
       "      <th></th>\n",
       "      <th></th>\n",
       "      <th></th>\n",
       "      <th></th>\n",
       "    </tr>\n",
       "  </thead>\n",
       "  <tbody>\n",
       "    <tr>\n",
       "      <th>2019-05-13 04:00:00+00:00</th>\n",
       "      <td>282.39</td>\n",
       "      <td>283.49</td>\n",
       "      <td>279.9300</td>\n",
       "      <td>280.86</td>\n",
       "      <td>127837979</td>\n",
       "      <td>670187</td>\n",
       "      <td>281.560182</td>\n",
       "      <td>NaN</td>\n",
       "      <td>108.83</td>\n",
       "      <td>108.9768</td>\n",
       "      <td>108.815</td>\n",
       "      <td>108.85</td>\n",
       "      <td>6733774</td>\n",
       "      <td>18575</td>\n",
       "      <td>108.884846</td>\n",
       "      <td>NaN</td>\n",
       "    </tr>\n",
       "    <tr>\n",
       "      <th>2019-05-14 04:00:00+00:00</th>\n",
       "      <td>282.01</td>\n",
       "      <td>285.10</td>\n",
       "      <td>281.8500</td>\n",
       "      <td>283.40</td>\n",
       "      <td>77106090</td>\n",
       "      <td>390251</td>\n",
       "      <td>283.609239</td>\n",
       "      <td>0.009044</td>\n",
       "      <td>108.90</td>\n",
       "      <td>108.9700</td>\n",
       "      <td>108.870</td>\n",
       "      <td>108.94</td>\n",
       "      <td>6217044</td>\n",
       "      <td>21837</td>\n",
       "      <td>108.919203</td>\n",
       "      <td>0.000827</td>\n",
       "    </tr>\n",
       "    <tr>\n",
       "      <th>2019-05-15 04:00:00+00:00</th>\n",
       "      <td>281.60</td>\n",
       "      <td>285.77</td>\n",
       "      <td>281.3600</td>\n",
       "      <td>285.06</td>\n",
       "      <td>75152409</td>\n",
       "      <td>364823</td>\n",
       "      <td>284.276653</td>\n",
       "      <td>0.005857</td>\n",
       "      <td>109.16</td>\n",
       "      <td>109.1800</td>\n",
       "      <td>109.000</td>\n",
       "      <td>109.13</td>\n",
       "      <td>2667156</td>\n",
       "      <td>12362</td>\n",
       "      <td>109.089171</td>\n",
       "      <td>0.001744</td>\n",
       "    </tr>\n",
       "    <tr>\n",
       "      <th>2019-05-16 04:00:00+00:00</th>\n",
       "      <td>285.83</td>\n",
       "      <td>289.21</td>\n",
       "      <td>285.7600</td>\n",
       "      <td>287.70</td>\n",
       "      <td>77186068</td>\n",
       "      <td>352847</td>\n",
       "      <td>287.797144</td>\n",
       "      <td>0.009261</td>\n",
       "      <td>109.04</td>\n",
       "      <td>109.0400</td>\n",
       "      <td>108.950</td>\n",
       "      <td>109.00</td>\n",
       "      <td>2756957</td>\n",
       "      <td>9263</td>\n",
       "      <td>108.993556</td>\n",
       "      <td>-0.001191</td>\n",
       "    </tr>\n",
       "    <tr>\n",
       "      <th>2019-05-17 04:00:00+00:00</th>\n",
       "      <td>285.13</td>\n",
       "      <td>288.60</td>\n",
       "      <td>285.1207</td>\n",
       "      <td>285.84</td>\n",
       "      <td>100853024</td>\n",
       "      <td>401172</td>\n",
       "      <td>286.609816</td>\n",
       "      <td>-0.006465</td>\n",
       "      <td>109.12</td>\n",
       "      <td>109.1450</td>\n",
       "      <td>108.935</td>\n",
       "      <td>109.03</td>\n",
       "      <td>2092402</td>\n",
       "      <td>7452</td>\n",
       "      <td>109.023836</td>\n",
       "      <td>0.000275</td>\n",
       "    </tr>\n",
       "  </tbody>\n",
       "</table>\n",
       "</div>"
      ],
      "text/plain": [
       "                              SPY                                       \\\n",
       "                             open    high       low   close     volume   \n",
       "timestamp                                                                \n",
       "2019-05-13 04:00:00+00:00  282.39  283.49  279.9300  280.86  127837979   \n",
       "2019-05-14 04:00:00+00:00  282.01  285.10  281.8500  283.40   77106090   \n",
       "2019-05-15 04:00:00+00:00  281.60  285.77  281.3600  285.06   75152409   \n",
       "2019-05-16 04:00:00+00:00  285.83  289.21  285.7600  287.70   77186068   \n",
       "2019-05-17 04:00:00+00:00  285.13  288.60  285.1207  285.84  100853024   \n",
       "\n",
       "                                                                   AGG  \\\n",
       "                          trade_count        vwap daily_return    open   \n",
       "timestamp                                                                \n",
       "2019-05-13 04:00:00+00:00      670187  281.560182          NaN  108.83   \n",
       "2019-05-14 04:00:00+00:00      390251  283.609239     0.009044  108.90   \n",
       "2019-05-15 04:00:00+00:00      364823  284.276653     0.005857  109.16   \n",
       "2019-05-16 04:00:00+00:00      352847  287.797144     0.009261  109.04   \n",
       "2019-05-17 04:00:00+00:00      401172  286.609816    -0.006465  109.12   \n",
       "\n",
       "                                                                           \\\n",
       "                               high      low   close   volume trade_count   \n",
       "timestamp                                                                   \n",
       "2019-05-13 04:00:00+00:00  108.9768  108.815  108.85  6733774       18575   \n",
       "2019-05-14 04:00:00+00:00  108.9700  108.870  108.94  6217044       21837   \n",
       "2019-05-15 04:00:00+00:00  109.1800  109.000  109.13  2667156       12362   \n",
       "2019-05-16 04:00:00+00:00  109.0400  108.950  109.00  2756957        9263   \n",
       "2019-05-17 04:00:00+00:00  109.1450  108.935  109.03  2092402        7452   \n",
       "\n",
       "                                                    \n",
       "                                 vwap daily_return  \n",
       "timestamp                                           \n",
       "2019-05-13 04:00:00+00:00  108.884846          NaN  \n",
       "2019-05-14 04:00:00+00:00  108.919203     0.000827  \n",
       "2019-05-15 04:00:00+00:00  109.089171     0.001744  \n",
       "2019-05-16 04:00:00+00:00  108.993556    -0.001191  \n",
       "2019-05-17 04:00:00+00:00  109.023836     0.000275  "
      ]
     },
     "execution_count": 115,
     "metadata": {},
     "output_type": "execute_result"
    }
   ],
   "source": [
    "# Configure the Monte Carlo simulation to forecast 30 years cumulative returns\n",
    "# The weights should be split 40% to AGG and 60% to SPY.\n",
    "# Run 500 samples.\n",
    "MC_30_years = MCSimulation(\n",
    "    portfolio_data = ticker_data_df,\n",
    "    weights = [.60,.40],\n",
    "    num_simulation = 500,\n",
    "    num_trading_days = 252*30\n",
    ")\n",
    "\n",
    "# Review the simulation input data\n",
    "MC_30_years.portfolio_data.head()\n"
   ]
  },
  {
   "cell_type": "code",
   "execution_count": 116,
   "metadata": {},
   "outputs": [
    {
     "name": "stdout",
     "output_type": "stream",
     "text": [
      "Running Monte Carlo simulation number 0.\n",
      "Running Monte Carlo simulation number 10.\n",
      "Running Monte Carlo simulation number 20.\n",
      "Running Monte Carlo simulation number 30.\n",
      "Running Monte Carlo simulation number 40.\n",
      "Running Monte Carlo simulation number 50.\n",
      "Running Monte Carlo simulation number 60.\n",
      "Running Monte Carlo simulation number 70.\n",
      "Running Monte Carlo simulation number 80.\n",
      "Running Monte Carlo simulation number 90.\n",
      "Running Monte Carlo simulation number 100.\n"
     ]
    },
    {
     "name": "stderr",
     "output_type": "stream",
     "text": [
      "/Users/jameswillis/Desktop/Module_5_CF/Module_5_Challenge/MCForecastTools.py:117: PerformanceWarning: DataFrame is highly fragmented.  This is usually the result of calling `frame.insert` many times, which has poor performance.  Consider joining all columns at once using pd.concat(axis=1) instead.  To get a de-fragmented frame, use `newframe = frame.copy()`\n",
      "  portfolio_cumulative_returns[n] = (1 + sim_df.fillna(0)).cumprod()\n"
     ]
    },
    {
     "name": "stdout",
     "output_type": "stream",
     "text": [
      "Running Monte Carlo simulation number 110.\n",
      "Running Monte Carlo simulation number 120.\n",
      "Running Monte Carlo simulation number 130.\n",
      "Running Monte Carlo simulation number 140.\n",
      "Running Monte Carlo simulation number 150.\n",
      "Running Monte Carlo simulation number 160.\n",
      "Running Monte Carlo simulation number 170.\n",
      "Running Monte Carlo simulation number 180.\n",
      "Running Monte Carlo simulation number 190.\n",
      "Running Monte Carlo simulation number 200.\n",
      "Running Monte Carlo simulation number 210.\n",
      "Running Monte Carlo simulation number 220.\n",
      "Running Monte Carlo simulation number 230.\n",
      "Running Monte Carlo simulation number 240.\n",
      "Running Monte Carlo simulation number 250.\n",
      "Running Monte Carlo simulation number 260.\n",
      "Running Monte Carlo simulation number 270.\n",
      "Running Monte Carlo simulation number 280.\n",
      "Running Monte Carlo simulation number 290.\n",
      "Running Monte Carlo simulation number 300.\n",
      "Running Monte Carlo simulation number 310.\n",
      "Running Monte Carlo simulation number 320.\n",
      "Running Monte Carlo simulation number 330.\n",
      "Running Monte Carlo simulation number 340.\n",
      "Running Monte Carlo simulation number 350.\n",
      "Running Monte Carlo simulation number 360.\n",
      "Running Monte Carlo simulation number 370.\n",
      "Running Monte Carlo simulation number 380.\n",
      "Running Monte Carlo simulation number 390.\n",
      "Running Monte Carlo simulation number 400.\n",
      "Running Monte Carlo simulation number 410.\n",
      "Running Monte Carlo simulation number 420.\n",
      "Running Monte Carlo simulation number 430.\n",
      "Running Monte Carlo simulation number 440.\n",
      "Running Monte Carlo simulation number 450.\n",
      "Running Monte Carlo simulation number 460.\n",
      "Running Monte Carlo simulation number 470.\n",
      "Running Monte Carlo simulation number 480.\n",
      "Running Monte Carlo simulation number 490.\n"
     ]
    },
    {
     "data": {
      "text/html": [
       "<div>\n",
       "<style scoped>\n",
       "    .dataframe tbody tr th:only-of-type {\n",
       "        vertical-align: middle;\n",
       "    }\n",
       "\n",
       "    .dataframe tbody tr th {\n",
       "        vertical-align: top;\n",
       "    }\n",
       "\n",
       "    .dataframe thead th {\n",
       "        text-align: right;\n",
       "    }\n",
       "</style>\n",
       "<table border=\"1\" class=\"dataframe\">\n",
       "  <thead>\n",
       "    <tr style=\"text-align: right;\">\n",
       "      <th></th>\n",
       "      <th>0</th>\n",
       "      <th>1</th>\n",
       "      <th>2</th>\n",
       "      <th>3</th>\n",
       "      <th>4</th>\n",
       "      <th>5</th>\n",
       "      <th>6</th>\n",
       "      <th>7</th>\n",
       "      <th>8</th>\n",
       "      <th>9</th>\n",
       "      <th>...</th>\n",
       "      <th>490</th>\n",
       "      <th>491</th>\n",
       "      <th>492</th>\n",
       "      <th>493</th>\n",
       "      <th>494</th>\n",
       "      <th>495</th>\n",
       "      <th>496</th>\n",
       "      <th>497</th>\n",
       "      <th>498</th>\n",
       "      <th>499</th>\n",
       "    </tr>\n",
       "  </thead>\n",
       "  <tbody>\n",
       "    <tr>\n",
       "      <th>0</th>\n",
       "      <td>1.000000</td>\n",
       "      <td>1.000000</td>\n",
       "      <td>1.000000</td>\n",
       "      <td>1.000000</td>\n",
       "      <td>1.000000</td>\n",
       "      <td>1.000000</td>\n",
       "      <td>1.000000</td>\n",
       "      <td>1.000000</td>\n",
       "      <td>1.000000</td>\n",
       "      <td>1.000000</td>\n",
       "      <td>...</td>\n",
       "      <td>1.000000</td>\n",
       "      <td>1.000000</td>\n",
       "      <td>1.000000</td>\n",
       "      <td>1.000000</td>\n",
       "      <td>1.000000</td>\n",
       "      <td>1.000000</td>\n",
       "      <td>1.000000</td>\n",
       "      <td>1.000000</td>\n",
       "      <td>1.000000</td>\n",
       "      <td>1.000000</td>\n",
       "    </tr>\n",
       "    <tr>\n",
       "      <th>1</th>\n",
       "      <td>1.003942</td>\n",
       "      <td>1.007458</td>\n",
       "      <td>0.996379</td>\n",
       "      <td>1.007263</td>\n",
       "      <td>0.996242</td>\n",
       "      <td>0.991630</td>\n",
       "      <td>1.001381</td>\n",
       "      <td>1.003111</td>\n",
       "      <td>1.006941</td>\n",
       "      <td>1.004511</td>\n",
       "      <td>...</td>\n",
       "      <td>0.993744</td>\n",
       "      <td>1.003204</td>\n",
       "      <td>0.996704</td>\n",
       "      <td>1.003231</td>\n",
       "      <td>0.998216</td>\n",
       "      <td>0.994496</td>\n",
       "      <td>1.001412</td>\n",
       "      <td>0.995572</td>\n",
       "      <td>0.996333</td>\n",
       "      <td>1.008050</td>\n",
       "    </tr>\n",
       "    <tr>\n",
       "      <th>2</th>\n",
       "      <td>1.010048</td>\n",
       "      <td>1.019524</td>\n",
       "      <td>1.000447</td>\n",
       "      <td>1.001666</td>\n",
       "      <td>1.005504</td>\n",
       "      <td>0.986985</td>\n",
       "      <td>0.996235</td>\n",
       "      <td>1.014901</td>\n",
       "      <td>1.005991</td>\n",
       "      <td>1.009911</td>\n",
       "      <td>...</td>\n",
       "      <td>1.008734</td>\n",
       "      <td>1.003337</td>\n",
       "      <td>0.990713</td>\n",
       "      <td>1.010767</td>\n",
       "      <td>1.011540</td>\n",
       "      <td>1.001226</td>\n",
       "      <td>0.999405</td>\n",
       "      <td>0.987457</td>\n",
       "      <td>1.002450</td>\n",
       "      <td>1.000465</td>\n",
       "    </tr>\n",
       "    <tr>\n",
       "      <th>3</th>\n",
       "      <td>1.019863</td>\n",
       "      <td>1.030288</td>\n",
       "      <td>1.009957</td>\n",
       "      <td>1.003271</td>\n",
       "      <td>1.009640</td>\n",
       "      <td>0.974135</td>\n",
       "      <td>1.004447</td>\n",
       "      <td>1.023845</td>\n",
       "      <td>1.010025</td>\n",
       "      <td>1.014389</td>\n",
       "      <td>...</td>\n",
       "      <td>1.004262</td>\n",
       "      <td>1.005414</td>\n",
       "      <td>0.987560</td>\n",
       "      <td>1.014922</td>\n",
       "      <td>1.009054</td>\n",
       "      <td>1.004977</td>\n",
       "      <td>0.990144</td>\n",
       "      <td>0.973193</td>\n",
       "      <td>1.005837</td>\n",
       "      <td>0.994408</td>\n",
       "    </tr>\n",
       "    <tr>\n",
       "      <th>4</th>\n",
       "      <td>1.009102</td>\n",
       "      <td>1.021684</td>\n",
       "      <td>1.021444</td>\n",
       "      <td>0.991053</td>\n",
       "      <td>1.015717</td>\n",
       "      <td>0.976694</td>\n",
       "      <td>0.996958</td>\n",
       "      <td>1.020077</td>\n",
       "      <td>1.005180</td>\n",
       "      <td>1.025081</td>\n",
       "      <td>...</td>\n",
       "      <td>0.994886</td>\n",
       "      <td>1.017264</td>\n",
       "      <td>0.987904</td>\n",
       "      <td>1.026897</td>\n",
       "      <td>1.023360</td>\n",
       "      <td>1.015803</td>\n",
       "      <td>0.987168</td>\n",
       "      <td>0.960419</td>\n",
       "      <td>1.010380</td>\n",
       "      <td>1.008169</td>\n",
       "    </tr>\n",
       "    <tr>\n",
       "      <th>...</th>\n",
       "      <td>...</td>\n",
       "      <td>...</td>\n",
       "      <td>...</td>\n",
       "      <td>...</td>\n",
       "      <td>...</td>\n",
       "      <td>...</td>\n",
       "      <td>...</td>\n",
       "      <td>...</td>\n",
       "      <td>...</td>\n",
       "      <td>...</td>\n",
       "      <td>...</td>\n",
       "      <td>...</td>\n",
       "      <td>...</td>\n",
       "      <td>...</td>\n",
       "      <td>...</td>\n",
       "      <td>...</td>\n",
       "      <td>...</td>\n",
       "      <td>...</td>\n",
       "      <td>...</td>\n",
       "      <td>...</td>\n",
       "      <td>...</td>\n",
       "    </tr>\n",
       "    <tr>\n",
       "      <th>7556</th>\n",
       "      <td>6.889996</td>\n",
       "      <td>12.732200</td>\n",
       "      <td>1.959950</td>\n",
       "      <td>9.852840</td>\n",
       "      <td>4.009406</td>\n",
       "      <td>8.589460</td>\n",
       "      <td>24.321556</td>\n",
       "      <td>8.719479</td>\n",
       "      <td>10.561205</td>\n",
       "      <td>12.359314</td>\n",
       "      <td>...</td>\n",
       "      <td>1.661158</td>\n",
       "      <td>4.034583</td>\n",
       "      <td>6.728440</td>\n",
       "      <td>14.366822</td>\n",
       "      <td>32.038275</td>\n",
       "      <td>26.833757</td>\n",
       "      <td>3.311635</td>\n",
       "      <td>3.138425</td>\n",
       "      <td>65.519612</td>\n",
       "      <td>8.161235</td>\n",
       "    </tr>\n",
       "    <tr>\n",
       "      <th>7557</th>\n",
       "      <td>6.911303</td>\n",
       "      <td>12.710516</td>\n",
       "      <td>1.943957</td>\n",
       "      <td>9.819131</td>\n",
       "      <td>4.018407</td>\n",
       "      <td>8.600527</td>\n",
       "      <td>24.191888</td>\n",
       "      <td>8.869470</td>\n",
       "      <td>10.654862</td>\n",
       "      <td>12.414721</td>\n",
       "      <td>...</td>\n",
       "      <td>1.656544</td>\n",
       "      <td>4.015962</td>\n",
       "      <td>6.777501</td>\n",
       "      <td>14.171095</td>\n",
       "      <td>32.062751</td>\n",
       "      <td>26.953700</td>\n",
       "      <td>3.284683</td>\n",
       "      <td>3.144940</td>\n",
       "      <td>65.894117</td>\n",
       "      <td>8.168830</td>\n",
       "    </tr>\n",
       "    <tr>\n",
       "      <th>7558</th>\n",
       "      <td>7.002932</td>\n",
       "      <td>12.719226</td>\n",
       "      <td>1.950433</td>\n",
       "      <td>9.962688</td>\n",
       "      <td>4.026719</td>\n",
       "      <td>8.696145</td>\n",
       "      <td>24.047921</td>\n",
       "      <td>8.858409</td>\n",
       "      <td>10.486699</td>\n",
       "      <td>12.436117</td>\n",
       "      <td>...</td>\n",
       "      <td>1.655141</td>\n",
       "      <td>4.060023</td>\n",
       "      <td>6.731748</td>\n",
       "      <td>14.058247</td>\n",
       "      <td>31.850511</td>\n",
       "      <td>27.521736</td>\n",
       "      <td>3.285687</td>\n",
       "      <td>3.113947</td>\n",
       "      <td>65.601586</td>\n",
       "      <td>8.193436</td>\n",
       "    </tr>\n",
       "    <tr>\n",
       "      <th>7559</th>\n",
       "      <td>6.930054</td>\n",
       "      <td>12.571882</td>\n",
       "      <td>1.938637</td>\n",
       "      <td>9.977770</td>\n",
       "      <td>3.971593</td>\n",
       "      <td>8.841015</td>\n",
       "      <td>24.143300</td>\n",
       "      <td>8.697958</td>\n",
       "      <td>10.729620</td>\n",
       "      <td>12.482348</td>\n",
       "      <td>...</td>\n",
       "      <td>1.673367</td>\n",
       "      <td>4.002591</td>\n",
       "      <td>6.661714</td>\n",
       "      <td>13.920893</td>\n",
       "      <td>31.600508</td>\n",
       "      <td>28.011375</td>\n",
       "      <td>3.312878</td>\n",
       "      <td>3.110539</td>\n",
       "      <td>65.504483</td>\n",
       "      <td>8.183351</td>\n",
       "    </tr>\n",
       "    <tr>\n",
       "      <th>7560</th>\n",
       "      <td>7.015269</td>\n",
       "      <td>12.529500</td>\n",
       "      <td>1.945448</td>\n",
       "      <td>10.006773</td>\n",
       "      <td>4.007548</td>\n",
       "      <td>8.801626</td>\n",
       "      <td>24.154409</td>\n",
       "      <td>8.812285</td>\n",
       "      <td>10.770790</td>\n",
       "      <td>12.460801</td>\n",
       "      <td>...</td>\n",
       "      <td>1.671840</td>\n",
       "      <td>3.989304</td>\n",
       "      <td>6.706374</td>\n",
       "      <td>13.975474</td>\n",
       "      <td>31.758055</td>\n",
       "      <td>28.255423</td>\n",
       "      <td>3.279797</td>\n",
       "      <td>3.052221</td>\n",
       "      <td>65.161515</td>\n",
       "      <td>8.158993</td>\n",
       "    </tr>\n",
       "  </tbody>\n",
       "</table>\n",
       "<p>7561 rows × 500 columns</p>\n",
       "</div>"
      ],
      "text/plain": [
       "           0          1         2          3         4         5          6    \\\n",
       "0     1.000000   1.000000  1.000000   1.000000  1.000000  1.000000   1.000000   \n",
       "1     1.003942   1.007458  0.996379   1.007263  0.996242  0.991630   1.001381   \n",
       "2     1.010048   1.019524  1.000447   1.001666  1.005504  0.986985   0.996235   \n",
       "3     1.019863   1.030288  1.009957   1.003271  1.009640  0.974135   1.004447   \n",
       "4     1.009102   1.021684  1.021444   0.991053  1.015717  0.976694   0.996958   \n",
       "...        ...        ...       ...        ...       ...       ...        ...   \n",
       "7556  6.889996  12.732200  1.959950   9.852840  4.009406  8.589460  24.321556   \n",
       "7557  6.911303  12.710516  1.943957   9.819131  4.018407  8.600527  24.191888   \n",
       "7558  7.002932  12.719226  1.950433   9.962688  4.026719  8.696145  24.047921   \n",
       "7559  6.930054  12.571882  1.938637   9.977770  3.971593  8.841015  24.143300   \n",
       "7560  7.015269  12.529500  1.945448  10.006773  4.007548  8.801626  24.154409   \n",
       "\n",
       "           7          8          9    ...       490       491       492  \\\n",
       "0     1.000000   1.000000   1.000000  ...  1.000000  1.000000  1.000000   \n",
       "1     1.003111   1.006941   1.004511  ...  0.993744  1.003204  0.996704   \n",
       "2     1.014901   1.005991   1.009911  ...  1.008734  1.003337  0.990713   \n",
       "3     1.023845   1.010025   1.014389  ...  1.004262  1.005414  0.987560   \n",
       "4     1.020077   1.005180   1.025081  ...  0.994886  1.017264  0.987904   \n",
       "...        ...        ...        ...  ...       ...       ...       ...   \n",
       "7556  8.719479  10.561205  12.359314  ...  1.661158  4.034583  6.728440   \n",
       "7557  8.869470  10.654862  12.414721  ...  1.656544  4.015962  6.777501   \n",
       "7558  8.858409  10.486699  12.436117  ...  1.655141  4.060023  6.731748   \n",
       "7559  8.697958  10.729620  12.482348  ...  1.673367  4.002591  6.661714   \n",
       "7560  8.812285  10.770790  12.460801  ...  1.671840  3.989304  6.706374   \n",
       "\n",
       "            493        494        495       496       497        498       499  \n",
       "0      1.000000   1.000000   1.000000  1.000000  1.000000   1.000000  1.000000  \n",
       "1      1.003231   0.998216   0.994496  1.001412  0.995572   0.996333  1.008050  \n",
       "2      1.010767   1.011540   1.001226  0.999405  0.987457   1.002450  1.000465  \n",
       "3      1.014922   1.009054   1.004977  0.990144  0.973193   1.005837  0.994408  \n",
       "4      1.026897   1.023360   1.015803  0.987168  0.960419   1.010380  1.008169  \n",
       "...         ...        ...        ...       ...       ...        ...       ...  \n",
       "7556  14.366822  32.038275  26.833757  3.311635  3.138425  65.519612  8.161235  \n",
       "7557  14.171095  32.062751  26.953700  3.284683  3.144940  65.894117  8.168830  \n",
       "7558  14.058247  31.850511  27.521736  3.285687  3.113947  65.601586  8.193436  \n",
       "7559  13.920893  31.600508  28.011375  3.312878  3.110539  65.504483  8.183351  \n",
       "7560  13.975474  31.758055  28.255423  3.279797  3.052221  65.161515  8.158993  \n",
       "\n",
       "[7561 rows x 500 columns]"
      ]
     },
     "execution_count": 116,
     "metadata": {},
     "output_type": "execute_result"
    }
   ],
   "source": [
    "# Run the Monte Carlo simulation to forecast 30 years cumulative returns\n",
    "MC_30_years.calc_cumulative_return()\n"
   ]
  },
  {
   "cell_type": "code",
   "execution_count": 117,
   "metadata": {},
   "outputs": [
    {
     "data": {
      "text/plain": [
       "<AxesSubplot:title={'center':'500 Simulations of Cumulative Portfolio Return Trajectories Over the Next 7560 Trading Days.'}>"
      ]
     },
     "execution_count": 117,
     "metadata": {},
     "output_type": "execute_result"
    },
    {
     "data": {
      "image/png": "[encoded data removed]",
      "text/plain": [
       "<Figure size 432x288 with 1 Axes>"
      ]
     },
     "metadata": {
      "needs_background": "light"
     },
     "output_type": "display_data"
    }
   ],
   "source": [
    "# Visualize the 30-year Monte Carlo simulation by creating an\n",
    "# overlay line plot\n",
    "MC_30_years.plot_simulation()\n"
   ]
  },
  {
   "cell_type": "markdown",
   "metadata": {},
   "source": [
    "#### Step 3: Plot the probability distribution of the Monte Carlo simulation."
   ]
  },
  {
   "cell_type": "code",
   "execution_count": 118,
   "metadata": {},
   "outputs": [
    {
     "data": {
      "text/plain": [
       "<AxesSubplot:title={'center':'Distribution of Final Cumuluative Returns Across All 500 Simulations'}, ylabel='Frequency'>"
      ]
     },
     "execution_count": 118,
     "metadata": {},
     "output_type": "execute_result"
    },
    {
     "data": {
      "image/png": "[encoded data removed]",
      "text/plain": [
       "<Figure size 432x288 with 1 Axes>"
      ]
     },
     "metadata": {
      "needs_background": "light"
     },
     "output_type": "display_data"
    }
   ],
   "source": [
    "# Visualize the probability distribution of the 30-year Monte Carlo simulation \n",
    "# by plotting a histogram\n",
    "MC_30_years.plot_distribution()\n"
   ]
  },
  {
   "cell_type": "markdown",
   "metadata": {},
   "source": [
    "#### Step 4: Generate the summary statistics for the Monte Carlo simulation."
   ]
  },
  {
   "cell_type": "code",
   "execution_count": 119,
   "metadata": {},
   "outputs": [
    {
     "name": "stdout",
     "output_type": "stream",
     "text": [
      "count           500.000000\n",
      "mean             11.441487\n",
      "std              10.186977\n",
      "min               0.421196\n",
      "25%               4.982641\n",
      "50%               8.450682\n",
      "75%              14.682530\n",
      "max             102.794476\n",
      "95% CI Lower      1.920161\n",
      "95% CI Upper     38.434695\n",
      "Name: 7560, dtype: float64\n"
     ]
    }
   ],
   "source": [
    "# Generate summary statistics from the 30-year Monte Carlo simulation results\n",
    "# Save the results as a variable\n",
    "MC_30_year_summaray_stats = MC_30_years.summarize_cumulative_return()\n",
    "\n",
    "\n",
    "# Review the 30-year Monte Carlo summary statistics\n",
    "print(MC_30_year_summaray_stats)"
   ]
  },
  {
   "cell_type": "markdown",
   "metadata": {},
   "source": [
    "### Analyze the Retirement Portfolio Forecasts\n",
    "\n",
    "Using the current value of only the stock and bond portion of the member's portfolio and the summary statistics that you generated from the Monte Carlo simulation, answer the following question in your Jupyter notebook:\n",
    "\n",
    "-  What are the lower and upper bounds for the expected value of the portfolio with a 95% confidence interval?\n"
   ]
  },
  {
   "cell_type": "code",
   "execution_count": 120,
   "metadata": {},
   "outputs": [],
   "source": [
    "# Print the current balance of the stock and bond portion of the members portfolio\n",
    "current_spy_price = ticker_data_df['SPY']['close'][-1] \n",
    "current_agg_price = ticker_data_df['AGG']['close'][-1]\n",
    "\n",
    "current_balance = total_stocks_bonds"
   ]
  },
  {
   "cell_type": "code",
   "execution_count": 124,
   "metadata": {},
   "outputs": [
    {
     "name": "stdout",
     "output_type": "stream",
     "text": [
      "There is a 95% chance that your $60688.7 over the next 30 years will end within in the range of $ 116532.05 and $ 2332551.67.\n"
     ]
    }
   ],
   "source": [
    "# Use the lower and upper `95%` confidence intervals to calculate the range of the possible outcomes for the current stock/bond portfolio\n",
    "ci_lower_thirty_cumulative_return = MC_30_year_summaray_stats[8] * current_balance\n",
    "ci_upper_thirty_cumulative_return = MC_30_year_summaray_stats[9] * current_balance\n",
    "\n",
    "# Print the result of your calculations\n",
    "print(f\"There is a 95% chance that your ${current_balance}\"\n",
    "    f\" over the next 30 years will end within in the range of\"\n",
    "    f\" ${ci_lower_thirty_cumulative_return: .2f} and ${ci_upper_thirty_cumulative_return: .2f}.\")\n"
   ]
  },
  {
   "cell_type": "markdown",
   "metadata": {},
   "source": [
    "### Forecast Cumulative Returns in 10 Years\n",
    "\n",
    "The CTO of the credit union is impressed with your work on these planning tools but wonders if 30 years is a long time to wait until retirement. So, your next task is to adjust the retirement portfolio and run a new Monte Carlo simulation to find out if the changes will allow members to retire earlier.\n",
    "\n",
    "For this new Monte Carlo simulation, do the following: \n",
    "\n",
    "- Forecast the cumulative returns for 10 years from now. Because of the shortened investment horizon (30 years to 10 years), the portfolio needs to invest more heavily in the riskier asset&mdash;that is, stock&mdash;to help accumulate wealth for retirement. \n",
    "\n",
    "- Adjust the weights of the retirement portfolio so that the composition for the Monte Carlo simulation consists of 20% bonds and 80% stocks. \n",
    "\n",
    "- Run the simulation over 500 samples, and use the same data that the API call to Alpaca generated.\n",
    "\n",
    "- Based on the new Monte Carlo simulation, answer the following questions in your Jupyter notebook:\n",
    "\n",
    "    - Using the current value of only the stock and bond portion of the member's portfolio and the summary statistics that you generated from the new Monte Carlo simulation, what are the lower and upper bounds for the expected value of the portfolio (with the new weights) with a 95% confidence interval?\n",
    "\n",
    "    - Will weighting the portfolio more heavily toward stocks allow the credit union members to retire after only 10 years?\n"
   ]
  },
  {
   "cell_type": "code",
   "execution_count": 122,
   "metadata": {},
   "outputs": [
    {
     "data": {
      "text/html": [
       "<div>\n",
       "<style scoped>\n",
       "    .dataframe tbody tr th:only-of-type {\n",
       "        vertical-align: middle;\n",
       "    }\n",
       "\n",
       "    .dataframe tbody tr th {\n",
       "        vertical-align: top;\n",
       "    }\n",
       "\n",
       "    .dataframe thead tr th {\n",
       "        text-align: left;\n",
       "    }\n",
       "\n",
       "    .dataframe thead tr:last-of-type th {\n",
       "        text-align: right;\n",
       "    }\n",
       "</style>\n",
       "<table border=\"1\" class=\"dataframe\">\n",
       "  <thead>\n",
       "    <tr>\n",
       "      <th></th>\n",
       "      <th colspan=\"8\" halign=\"left\">SPY</th>\n",
       "      <th colspan=\"8\" halign=\"left\">AGG</th>\n",
       "    </tr>\n",
       "    <tr>\n",
       "      <th></th>\n",
       "      <th>open</th>\n",
       "      <th>high</th>\n",
       "      <th>low</th>\n",
       "      <th>close</th>\n",
       "      <th>volume</th>\n",
       "      <th>trade_count</th>\n",
       "      <th>vwap</th>\n",
       "      <th>daily_return</th>\n",
       "      <th>open</th>\n",
       "      <th>high</th>\n",
       "      <th>low</th>\n",
       "      <th>close</th>\n",
       "      <th>volume</th>\n",
       "      <th>trade_count</th>\n",
       "      <th>vwap</th>\n",
       "      <th>daily_return</th>\n",
       "    </tr>\n",
       "    <tr>\n",
       "      <th>timestamp</th>\n",
       "      <th></th>\n",
       "      <th></th>\n",
       "      <th></th>\n",
       "      <th></th>\n",
       "      <th></th>\n",
       "      <th></th>\n",
       "      <th></th>\n",
       "      <th></th>\n",
       "      <th></th>\n",
       "      <th></th>\n",
       "      <th></th>\n",
       "      <th></th>\n",
       "      <th></th>\n",
       "      <th></th>\n",
       "      <th></th>\n",
       "      <th></th>\n",
       "    </tr>\n",
       "  </thead>\n",
       "  <tbody>\n",
       "    <tr>\n",
       "      <th>2019-05-13 04:00:00+00:00</th>\n",
       "      <td>282.39</td>\n",
       "      <td>283.49</td>\n",
       "      <td>279.9300</td>\n",
       "      <td>280.86</td>\n",
       "      <td>127837979</td>\n",
       "      <td>670187</td>\n",
       "      <td>281.560182</td>\n",
       "      <td>NaN</td>\n",
       "      <td>108.83</td>\n",
       "      <td>108.9768</td>\n",
       "      <td>108.815</td>\n",
       "      <td>108.85</td>\n",
       "      <td>6733774</td>\n",
       "      <td>18575</td>\n",
       "      <td>108.884846</td>\n",
       "      <td>NaN</td>\n",
       "    </tr>\n",
       "    <tr>\n",
       "      <th>2019-05-14 04:00:00+00:00</th>\n",
       "      <td>282.01</td>\n",
       "      <td>285.10</td>\n",
       "      <td>281.8500</td>\n",
       "      <td>283.40</td>\n",
       "      <td>77106090</td>\n",
       "      <td>390251</td>\n",
       "      <td>283.609239</td>\n",
       "      <td>0.009044</td>\n",
       "      <td>108.90</td>\n",
       "      <td>108.9700</td>\n",
       "      <td>108.870</td>\n",
       "      <td>108.94</td>\n",
       "      <td>6217044</td>\n",
       "      <td>21837</td>\n",
       "      <td>108.919203</td>\n",
       "      <td>0.000827</td>\n",
       "    </tr>\n",
       "    <tr>\n",
       "      <th>2019-05-15 04:00:00+00:00</th>\n",
       "      <td>281.60</td>\n",
       "      <td>285.77</td>\n",
       "      <td>281.3600</td>\n",
       "      <td>285.06</td>\n",
       "      <td>75152409</td>\n",
       "      <td>364823</td>\n",
       "      <td>284.276653</td>\n",
       "      <td>0.005857</td>\n",
       "      <td>109.16</td>\n",
       "      <td>109.1800</td>\n",
       "      <td>109.000</td>\n",
       "      <td>109.13</td>\n",
       "      <td>2667156</td>\n",
       "      <td>12362</td>\n",
       "      <td>109.089171</td>\n",
       "      <td>0.001744</td>\n",
       "    </tr>\n",
       "    <tr>\n",
       "      <th>2019-05-16 04:00:00+00:00</th>\n",
       "      <td>285.83</td>\n",
       "      <td>289.21</td>\n",
       "      <td>285.7600</td>\n",
       "      <td>287.70</td>\n",
       "      <td>77186068</td>\n",
       "      <td>352847</td>\n",
       "      <td>287.797144</td>\n",
       "      <td>0.009261</td>\n",
       "      <td>109.04</td>\n",
       "      <td>109.0400</td>\n",
       "      <td>108.950</td>\n",
       "      <td>109.00</td>\n",
       "      <td>2756957</td>\n",
       "      <td>9263</td>\n",
       "      <td>108.993556</td>\n",
       "      <td>-0.001191</td>\n",
       "    </tr>\n",
       "    <tr>\n",
       "      <th>2019-05-17 04:00:00+00:00</th>\n",
       "      <td>285.13</td>\n",
       "      <td>288.60</td>\n",
       "      <td>285.1207</td>\n",
       "      <td>285.84</td>\n",
       "      <td>100853024</td>\n",
       "      <td>401172</td>\n",
       "      <td>286.609816</td>\n",
       "      <td>-0.006465</td>\n",
       "      <td>109.12</td>\n",
       "      <td>109.1450</td>\n",
       "      <td>108.935</td>\n",
       "      <td>109.03</td>\n",
       "      <td>2092402</td>\n",
       "      <td>7452</td>\n",
       "      <td>109.023836</td>\n",
       "      <td>0.000275</td>\n",
       "    </tr>\n",
       "  </tbody>\n",
       "</table>\n",
       "</div>"
      ],
      "text/plain": [
       "                              SPY                                       \\\n",
       "                             open    high       low   close     volume   \n",
       "timestamp                                                                \n",
       "2019-05-13 04:00:00+00:00  282.39  283.49  279.9300  280.86  127837979   \n",
       "2019-05-14 04:00:00+00:00  282.01  285.10  281.8500  283.40   77106090   \n",
       "2019-05-15 04:00:00+00:00  281.60  285.77  281.3600  285.06   75152409   \n",
       "2019-05-16 04:00:00+00:00  285.83  289.21  285.7600  287.70   77186068   \n",
       "2019-05-17 04:00:00+00:00  285.13  288.60  285.1207  285.84  100853024   \n",
       "\n",
       "                                                                   AGG  \\\n",
       "                          trade_count        vwap daily_return    open   \n",
       "timestamp                                                                \n",
       "2019-05-13 04:00:00+00:00      670187  281.560182          NaN  108.83   \n",
       "2019-05-14 04:00:00+00:00      390251  283.609239     0.009044  108.90   \n",
       "2019-05-15 04:00:00+00:00      364823  284.276653     0.005857  109.16   \n",
       "2019-05-16 04:00:00+00:00      352847  287.797144     0.009261  109.04   \n",
       "2019-05-17 04:00:00+00:00      401172  286.609816    -0.006465  109.12   \n",
       "\n",
       "                                                                           \\\n",
       "                               high      low   close   volume trade_count   \n",
       "timestamp                                                                   \n",
       "2019-05-13 04:00:00+00:00  108.9768  108.815  108.85  6733774       18575   \n",
       "2019-05-14 04:00:00+00:00  108.9700  108.870  108.94  6217044       21837   \n",
       "2019-05-15 04:00:00+00:00  109.1800  109.000  109.13  2667156       12362   \n",
       "2019-05-16 04:00:00+00:00  109.0400  108.950  109.00  2756957        9263   \n",
       "2019-05-17 04:00:00+00:00  109.1450  108.935  109.03  2092402        7452   \n",
       "\n",
       "                                                    \n",
       "                                 vwap daily_return  \n",
       "timestamp                                           \n",
       "2019-05-13 04:00:00+00:00  108.884846          NaN  \n",
       "2019-05-14 04:00:00+00:00  108.919203     0.000827  \n",
       "2019-05-15 04:00:00+00:00  109.089171     0.001744  \n",
       "2019-05-16 04:00:00+00:00  108.993556    -0.001191  \n",
       "2019-05-17 04:00:00+00:00  109.023836     0.000275  "
      ]
     },
     "execution_count": 122,
     "metadata": {},
     "output_type": "execute_result"
    }
   ],
   "source": [
    "# Configure a Monte Carlo simulation to forecast 10 years cumulative returns\n",
    "# The weights should be split 20% to AGG and 80% to SPY.\n",
    "# Run 500 samples.\n",
    "MC_10_years = MCSimulation(\n",
    "    portfolio_data = ticker_data_df,\n",
    "    weights = [.80,.20],\n",
    "    num_simulation = 500,\n",
    "    num_trading_days = 252*10\n",
    ")\n",
    "\n",
    "# Review the simulation input data\n",
    "MC_30_years.portfolio_data.head()\n",
    "\n"
   ]
  },
  {
   "cell_type": "code",
   "execution_count": 123,
   "metadata": {},
   "outputs": [
    {
     "name": "stdout",
     "output_type": "stream",
     "text": [
      "Running Monte Carlo simulation number 0.\n",
      "Running Monte Carlo simulation number 10.\n",
      "Running Monte Carlo simulation number 20.\n",
      "Running Monte Carlo simulation number 30.\n",
      "Running Monte Carlo simulation number 40.\n",
      "Running Monte Carlo simulation number 50.\n",
      "Running Monte Carlo simulation number 60.\n",
      "Running Monte Carlo simulation number 70.\n",
      "Running Monte Carlo simulation number 80.\n",
      "Running Monte Carlo simulation number 90.\n",
      "Running Monte Carlo simulation number 100.\n"
     ]
    },
    {
     "name": "stderr",
     "output_type": "stream",
     "text": [
      "/Users/jameswillis/Desktop/Module_5_CF/Module_5_Challenge/MCForecastTools.py:117: PerformanceWarning: DataFrame is highly fragmented.  This is usually the result of calling `frame.insert` many times, which has poor performance.  Consider joining all columns at once using pd.concat(axis=1) instead.  To get a de-fragmented frame, use `newframe = frame.copy()`\n",
      "  portfolio_cumulative_returns[n] = (1 + sim_df.fillna(0)).cumprod()\n"
     ]
    },
    {
     "name": "stdout",
     "output_type": "stream",
     "text": [
      "Running Monte Carlo simulation number 110.\n",
      "Running Monte Carlo simulation number 120.\n",
      "Running Monte Carlo simulation number 130.\n",
      "Running Monte Carlo simulation number 140.\n",
      "Running Monte Carlo simulation number 150.\n",
      "Running Monte Carlo simulation number 160.\n",
      "Running Monte Carlo simulation number 170.\n",
      "Running Monte Carlo simulation number 180.\n",
      "Running Monte Carlo simulation number 190.\n",
      "Running Monte Carlo simulation number 200.\n",
      "Running Monte Carlo simulation number 210.\n",
      "Running Monte Carlo simulation number 220.\n",
      "Running Monte Carlo simulation number 230.\n",
      "Running Monte Carlo simulation number 240.\n",
      "Running Monte Carlo simulation number 250.\n",
      "Running Monte Carlo simulation number 260.\n",
      "Running Monte Carlo simulation number 270.\n",
      "Running Monte Carlo simulation number 280.\n",
      "Running Monte Carlo simulation number 290.\n",
      "Running Monte Carlo simulation number 300.\n",
      "Running Monte Carlo simulation number 310.\n",
      "Running Monte Carlo simulation number 320.\n",
      "Running Monte Carlo simulation number 330.\n",
      "Running Monte Carlo simulation number 340.\n",
      "Running Monte Carlo simulation number 350.\n",
      "Running Monte Carlo simulation number 360.\n",
      "Running Monte Carlo simulation number 370.\n",
      "Running Monte Carlo simulation number 380.\n",
      "Running Monte Carlo simulation number 390.\n",
      "Running Monte Carlo simulation number 400.\n",
      "Running Monte Carlo simulation number 410.\n",
      "Running Monte Carlo simulation number 420.\n",
      "Running Monte Carlo simulation number 430.\n",
      "Running Monte Carlo simulation number 440.\n",
      "Running Monte Carlo simulation number 450.\n",
      "Running Monte Carlo simulation number 460.\n",
      "Running Monte Carlo simulation number 470.\n",
      "Running Monte Carlo simulation number 480.\n",
      "Running Monte Carlo simulation number 490.\n"
     ]
    },
    {
     "data": {
      "text/html": [
       "<div>\n",
       "<style scoped>\n",
       "    .dataframe tbody tr th:only-of-type {\n",
       "        vertical-align: middle;\n",
       "    }\n",
       "\n",
       "    .dataframe tbody tr th {\n",
       "        vertical-align: top;\n",
       "    }\n",
       "\n",
       "    .dataframe thead th {\n",
       "        text-align: right;\n",
       "    }\n",
       "</style>\n",
       "<table border=\"1\" class=\"dataframe\">\n",
       "  <thead>\n",
       "    <tr style=\"text-align: right;\">\n",
       "      <th></th>\n",
       "      <th>0</th>\n",
       "      <th>1</th>\n",
       "      <th>2</th>\n",
       "      <th>3</th>\n",
       "      <th>4</th>\n",
       "      <th>5</th>\n",
       "      <th>6</th>\n",
       "      <th>7</th>\n",
       "      <th>8</th>\n",
       "      <th>9</th>\n",
       "      <th>...</th>\n",
       "      <th>490</th>\n",
       "      <th>491</th>\n",
       "      <th>492</th>\n",
       "      <th>493</th>\n",
       "      <th>494</th>\n",
       "      <th>495</th>\n",
       "      <th>496</th>\n",
       "      <th>497</th>\n",
       "      <th>498</th>\n",
       "      <th>499</th>\n",
       "    </tr>\n",
       "  </thead>\n",
       "  <tbody>\n",
       "    <tr>\n",
       "      <th>0</th>\n",
       "      <td>1.000000</td>\n",
       "      <td>1.000000</td>\n",
       "      <td>1.000000</td>\n",
       "      <td>1.000000</td>\n",
       "      <td>1.000000</td>\n",
       "      <td>1.000000</td>\n",
       "      <td>1.000000</td>\n",
       "      <td>1.000000</td>\n",
       "      <td>1.000000</td>\n",
       "      <td>1.000000</td>\n",
       "      <td>...</td>\n",
       "      <td>1.000000</td>\n",
       "      <td>1.000000</td>\n",
       "      <td>1.000000</td>\n",
       "      <td>1.000000</td>\n",
       "      <td>1.000000</td>\n",
       "      <td>1.000000</td>\n",
       "      <td>1.000000</td>\n",
       "      <td>1.000000</td>\n",
       "      <td>1.000000</td>\n",
       "      <td>1.000000</td>\n",
       "    </tr>\n",
       "    <tr>\n",
       "      <th>1</th>\n",
       "      <td>1.008339</td>\n",
       "      <td>0.988774</td>\n",
       "      <td>0.998462</td>\n",
       "      <td>0.986360</td>\n",
       "      <td>1.022145</td>\n",
       "      <td>0.998755</td>\n",
       "      <td>0.999485</td>\n",
       "      <td>0.991038</td>\n",
       "      <td>1.019665</td>\n",
       "      <td>0.987203</td>\n",
       "      <td>...</td>\n",
       "      <td>1.006449</td>\n",
       "      <td>1.001149</td>\n",
       "      <td>1.004640</td>\n",
       "      <td>1.017481</td>\n",
       "      <td>0.996353</td>\n",
       "      <td>0.994073</td>\n",
       "      <td>0.990435</td>\n",
       "      <td>0.993222</td>\n",
       "      <td>0.982527</td>\n",
       "      <td>0.995958</td>\n",
       "    </tr>\n",
       "    <tr>\n",
       "      <th>2</th>\n",
       "      <td>0.996717</td>\n",
       "      <td>0.975534</td>\n",
       "      <td>0.988560</td>\n",
       "      <td>0.976244</td>\n",
       "      <td>1.038929</td>\n",
       "      <td>0.999725</td>\n",
       "      <td>0.998335</td>\n",
       "      <td>0.996248</td>\n",
       "      <td>0.999959</td>\n",
       "      <td>0.984620</td>\n",
       "      <td>...</td>\n",
       "      <td>0.993497</td>\n",
       "      <td>1.009646</td>\n",
       "      <td>1.008101</td>\n",
       "      <td>1.014647</td>\n",
       "      <td>0.995200</td>\n",
       "      <td>0.986534</td>\n",
       "      <td>1.005595</td>\n",
       "      <td>0.996082</td>\n",
       "      <td>0.968108</td>\n",
       "      <td>0.999266</td>\n",
       "    </tr>\n",
       "    <tr>\n",
       "      <th>3</th>\n",
       "      <td>0.998796</td>\n",
       "      <td>0.997501</td>\n",
       "      <td>0.972170</td>\n",
       "      <td>0.975616</td>\n",
       "      <td>1.035529</td>\n",
       "      <td>1.001005</td>\n",
       "      <td>0.978507</td>\n",
       "      <td>0.990054</td>\n",
       "      <td>0.995025</td>\n",
       "      <td>0.981272</td>\n",
       "      <td>...</td>\n",
       "      <td>1.018361</td>\n",
       "      <td>1.021214</td>\n",
       "      <td>1.002279</td>\n",
       "      <td>1.017090</td>\n",
       "      <td>1.000648</td>\n",
       "      <td>0.986633</td>\n",
       "      <td>0.991080</td>\n",
       "      <td>1.015124</td>\n",
       "      <td>0.974498</td>\n",
       "      <td>0.997779</td>\n",
       "    </tr>\n",
       "    <tr>\n",
       "      <th>4</th>\n",
       "      <td>1.002743</td>\n",
       "      <td>0.987998</td>\n",
       "      <td>0.979164</td>\n",
       "      <td>0.970182</td>\n",
       "      <td>1.067594</td>\n",
       "      <td>0.987761</td>\n",
       "      <td>0.978967</td>\n",
       "      <td>0.967078</td>\n",
       "      <td>0.999719</td>\n",
       "      <td>0.989267</td>\n",
       "      <td>...</td>\n",
       "      <td>1.005216</td>\n",
       "      <td>1.006393</td>\n",
       "      <td>1.003944</td>\n",
       "      <td>1.030751</td>\n",
       "      <td>1.004363</td>\n",
       "      <td>0.976680</td>\n",
       "      <td>0.991170</td>\n",
       "      <td>1.018164</td>\n",
       "      <td>0.975093</td>\n",
       "      <td>0.977674</td>\n",
       "    </tr>\n",
       "    <tr>\n",
       "      <th>...</th>\n",
       "      <td>...</td>\n",
       "      <td>...</td>\n",
       "      <td>...</td>\n",
       "      <td>...</td>\n",
       "      <td>...</td>\n",
       "      <td>...</td>\n",
       "      <td>...</td>\n",
       "      <td>...</td>\n",
       "      <td>...</td>\n",
       "      <td>...</td>\n",
       "      <td>...</td>\n",
       "      <td>...</td>\n",
       "      <td>...</td>\n",
       "      <td>...</td>\n",
       "      <td>...</td>\n",
       "      <td>...</td>\n",
       "      <td>...</td>\n",
       "      <td>...</td>\n",
       "      <td>...</td>\n",
       "      <td>...</td>\n",
       "      <td>...</td>\n",
       "    </tr>\n",
       "    <tr>\n",
       "      <th>2516</th>\n",
       "      <td>3.021266</td>\n",
       "      <td>2.562833</td>\n",
       "      <td>2.244510</td>\n",
       "      <td>4.465844</td>\n",
       "      <td>2.051946</td>\n",
       "      <td>2.045061</td>\n",
       "      <td>5.118283</td>\n",
       "      <td>6.269438</td>\n",
       "      <td>2.500806</td>\n",
       "      <td>3.731174</td>\n",
       "      <td>...</td>\n",
       "      <td>1.467989</td>\n",
       "      <td>2.979130</td>\n",
       "      <td>1.874981</td>\n",
       "      <td>1.731855</td>\n",
       "      <td>4.683353</td>\n",
       "      <td>4.131431</td>\n",
       "      <td>2.019136</td>\n",
       "      <td>2.898719</td>\n",
       "      <td>0.943099</td>\n",
       "      <td>1.492083</td>\n",
       "    </tr>\n",
       "    <tr>\n",
       "      <th>2517</th>\n",
       "      <td>3.043194</td>\n",
       "      <td>2.592699</td>\n",
       "      <td>2.250363</td>\n",
       "      <td>4.424035</td>\n",
       "      <td>2.027679</td>\n",
       "      <td>2.038067</td>\n",
       "      <td>5.115800</td>\n",
       "      <td>6.257561</td>\n",
       "      <td>2.518648</td>\n",
       "      <td>3.809728</td>\n",
       "      <td>...</td>\n",
       "      <td>1.488261</td>\n",
       "      <td>2.995907</td>\n",
       "      <td>1.896751</td>\n",
       "      <td>1.731512</td>\n",
       "      <td>4.718592</td>\n",
       "      <td>4.195330</td>\n",
       "      <td>2.037428</td>\n",
       "      <td>2.909950</td>\n",
       "      <td>0.929957</td>\n",
       "      <td>1.474565</td>\n",
       "    </tr>\n",
       "    <tr>\n",
       "      <th>2518</th>\n",
       "      <td>3.003520</td>\n",
       "      <td>2.588059</td>\n",
       "      <td>2.252471</td>\n",
       "      <td>4.457295</td>\n",
       "      <td>1.995760</td>\n",
       "      <td>2.073890</td>\n",
       "      <td>5.151740</td>\n",
       "      <td>6.286791</td>\n",
       "      <td>2.500598</td>\n",
       "      <td>3.818007</td>\n",
       "      <td>...</td>\n",
       "      <td>1.458140</td>\n",
       "      <td>2.956695</td>\n",
       "      <td>1.868387</td>\n",
       "      <td>1.725863</td>\n",
       "      <td>4.766921</td>\n",
       "      <td>4.230432</td>\n",
       "      <td>2.018636</td>\n",
       "      <td>2.917713</td>\n",
       "      <td>0.922173</td>\n",
       "      <td>1.445532</td>\n",
       "    </tr>\n",
       "    <tr>\n",
       "      <th>2519</th>\n",
       "      <td>3.032716</td>\n",
       "      <td>2.599122</td>\n",
       "      <td>2.286629</td>\n",
       "      <td>4.520803</td>\n",
       "      <td>2.002938</td>\n",
       "      <td>2.074117</td>\n",
       "      <td>5.156807</td>\n",
       "      <td>6.268142</td>\n",
       "      <td>2.494034</td>\n",
       "      <td>3.812427</td>\n",
       "      <td>...</td>\n",
       "      <td>1.495177</td>\n",
       "      <td>2.888472</td>\n",
       "      <td>1.877419</td>\n",
       "      <td>1.729811</td>\n",
       "      <td>4.878530</td>\n",
       "      <td>4.204581</td>\n",
       "      <td>2.033107</td>\n",
       "      <td>2.883385</td>\n",
       "      <td>0.931154</td>\n",
       "      <td>1.465316</td>\n",
       "    </tr>\n",
       "    <tr>\n",
       "      <th>2520</th>\n",
       "      <td>3.009155</td>\n",
       "      <td>2.567627</td>\n",
       "      <td>2.331317</td>\n",
       "      <td>4.581434</td>\n",
       "      <td>1.990767</td>\n",
       "      <td>2.037803</td>\n",
       "      <td>5.202135</td>\n",
       "      <td>6.238351</td>\n",
       "      <td>2.484791</td>\n",
       "      <td>3.836638</td>\n",
       "      <td>...</td>\n",
       "      <td>1.476330</td>\n",
       "      <td>2.919808</td>\n",
       "      <td>1.886891</td>\n",
       "      <td>1.709946</td>\n",
       "      <td>4.839654</td>\n",
       "      <td>4.227810</td>\n",
       "      <td>2.022596</td>\n",
       "      <td>2.853755</td>\n",
       "      <td>0.935036</td>\n",
       "      <td>1.446459</td>\n",
       "    </tr>\n",
       "  </tbody>\n",
       "</table>\n",
       "<p>2521 rows × 500 columns</p>\n",
       "</div>"
      ],
      "text/plain": [
       "           0         1         2         3         4         5         6    \\\n",
       "0     1.000000  1.000000  1.000000  1.000000  1.000000  1.000000  1.000000   \n",
       "1     1.008339  0.988774  0.998462  0.986360  1.022145  0.998755  0.999485   \n",
       "2     0.996717  0.975534  0.988560  0.976244  1.038929  0.999725  0.998335   \n",
       "3     0.998796  0.997501  0.972170  0.975616  1.035529  1.001005  0.978507   \n",
       "4     1.002743  0.987998  0.979164  0.970182  1.067594  0.987761  0.978967   \n",
       "...        ...       ...       ...       ...       ...       ...       ...   \n",
       "2516  3.021266  2.562833  2.244510  4.465844  2.051946  2.045061  5.118283   \n",
       "2517  3.043194  2.592699  2.250363  4.424035  2.027679  2.038067  5.115800   \n",
       "2518  3.003520  2.588059  2.252471  4.457295  1.995760  2.073890  5.151740   \n",
       "2519  3.032716  2.599122  2.286629  4.520803  2.002938  2.074117  5.156807   \n",
       "2520  3.009155  2.567627  2.331317  4.581434  1.990767  2.037803  5.202135   \n",
       "\n",
       "           7         8         9    ...       490       491       492  \\\n",
       "0     1.000000  1.000000  1.000000  ...  1.000000  1.000000  1.000000   \n",
       "1     0.991038  1.019665  0.987203  ...  1.006449  1.001149  1.004640   \n",
       "2     0.996248  0.999959  0.984620  ...  0.993497  1.009646  1.008101   \n",
       "3     0.990054  0.995025  0.981272  ...  1.018361  1.021214  1.002279   \n",
       "4     0.967078  0.999719  0.989267  ...  1.005216  1.006393  1.003944   \n",
       "...        ...       ...       ...  ...       ...       ...       ...   \n",
       "2516  6.269438  2.500806  3.731174  ...  1.467989  2.979130  1.874981   \n",
       "2517  6.257561  2.518648  3.809728  ...  1.488261  2.995907  1.896751   \n",
       "2518  6.286791  2.500598  3.818007  ...  1.458140  2.956695  1.868387   \n",
       "2519  6.268142  2.494034  3.812427  ...  1.495177  2.888472  1.877419   \n",
       "2520  6.238351  2.484791  3.836638  ...  1.476330  2.919808  1.886891   \n",
       "\n",
       "           493       494       495       496       497       498       499  \n",
       "0     1.000000  1.000000  1.000000  1.000000  1.000000  1.000000  1.000000  \n",
       "1     1.017481  0.996353  0.994073  0.990435  0.993222  0.982527  0.995958  \n",
       "2     1.014647  0.995200  0.986534  1.005595  0.996082  0.968108  0.999266  \n",
       "3     1.017090  1.000648  0.986633  0.991080  1.015124  0.974498  0.997779  \n",
       "4     1.030751  1.004363  0.976680  0.991170  1.018164  0.975093  0.977674  \n",
       "...        ...       ...       ...       ...       ...       ...       ...  \n",
       "2516  1.731855  4.683353  4.131431  2.019136  2.898719  0.943099  1.492083  \n",
       "2517  1.731512  4.718592  4.195330  2.037428  2.909950  0.929957  1.474565  \n",
       "2518  1.725863  4.766921  4.230432  2.018636  2.917713  0.922173  1.445532  \n",
       "2519  1.729811  4.878530  4.204581  2.033107  2.883385  0.931154  1.465316  \n",
       "2520  1.709946  4.839654  4.227810  2.022596  2.853755  0.935036  1.446459  \n",
       "\n",
       "[2521 rows x 500 columns]"
      ]
     },
     "execution_count": 123,
     "metadata": {},
     "output_type": "execute_result"
    }
   ],
   "source": [
    "# Run the Monte Carlo simulation to forecast 10 years cumulative returns\n",
    "MC_10_years.calc_cumulative_return()\n"
   ]
  },
  {
   "cell_type": "code",
   "execution_count": 125,
   "metadata": {},
   "outputs": [
    {
     "data": {
      "text/plain": [
       "<AxesSubplot:title={'center':'500 Simulations of Cumulative Portfolio Return Trajectories Over the Next 2520 Trading Days.'}>"
      ]
     },
     "execution_count": 125,
     "metadata": {},
     "output_type": "execute_result"
    },
    {
     "data": {
      "image/png": "[encoded data removed]",
      "text/plain": [
       "<Figure size 432x288 with 1 Axes>"
      ]
     },
     "metadata": {
      "needs_background": "light"
     },
     "output_type": "display_data"
    }
   ],
   "source": [
    "# Visualize the 10-year Monte Carlo simulation by creating an\n",
    "# overlay line plot\n",
    "MC_10_years.plot_simulation()\n"
   ]
  },
  {
   "cell_type": "code",
   "execution_count": 126,
   "metadata": {},
   "outputs": [
    {
     "data": {
      "text/plain": [
       "<AxesSubplot:title={'center':'Distribution of Final Cumuluative Returns Across All 500 Simulations'}, ylabel='Frequency'>"
      ]
     },
     "execution_count": 126,
     "metadata": {},
     "output_type": "execute_result"
    },
    {
     "data": {
      "image/png": "[encoded data removed]",
      "text/plain": [
       "<Figure size 432x288 with 1 Axes>"
      ]
     },
     "metadata": {
      "needs_background": "light"
     },
     "output_type": "display_data"
    }
   ],
   "source": [
    "# Visualize the probability distribution of the 10-year Monte Carlo simulation \n",
    "# by plotting a histogram\n",
    "MC_10_years.plot_distribution()\n"
   ]
  },
  {
   "cell_type": "code",
   "execution_count": 127,
   "metadata": {},
   "outputs": [
    {
     "name": "stdout",
     "output_type": "stream",
     "text": [
      "count           500.000000\n",
      "mean              3.222527\n",
      "std               2.073627\n",
      "min               0.514302\n",
      "25%               1.886749\n",
      "50%               2.741253\n",
      "75%               4.171074\n",
      "max              19.961152\n",
      "95% CI Lower      0.753623\n",
      "95% CI Upper      7.570285\n",
      "Name: 2520, dtype: float64\n"
     ]
    }
   ],
   "source": [
    "# Generate summary statistics from the 10-year Monte Carlo simulation results\n",
    "# Save the results as a variable\n",
    "MC_10_year_summaray_stats = MC_10_years.summarize_cumulative_return()\n",
    "\n",
    "\n",
    "# Review the 10-year Monte Carlo summary statistics\n",
    "print(MC_10_year_summaray_stats)"
   ]
  },
  {
   "cell_type": "markdown",
   "metadata": {},
   "source": [
    "### Answer the following questions:"
   ]
  },
  {
   "cell_type": "markdown",
   "metadata": {},
   "source": [
    "#### Question: Using the current value of only the stock and bond portion of the member's portfolio and the summary statistics that you generated from the new Monte Carlo simulation, what are the lower and upper bounds for the expected value of the portfolio (with the new weights) with a 95% confidence interval?"
   ]
  },
  {
   "cell_type": "code",
   "execution_count": 132,
   "metadata": {},
   "outputs": [],
   "source": [
    "# Print the current balance of the stock and bond portion of the members portfolio\n",
    "#current_balance = total_stocks_bonds\n"
   ]
  },
  {
   "cell_type": "code",
   "execution_count": 133,
   "metadata": {},
   "outputs": [
    {
     "name": "stdout",
     "output_type": "stream",
     "text": [
      "There is a 95% chance that your $60688.7 over the next 30 years will end within in the range of $ 45736.40 and $ 459430.73.\n"
     ]
    }
   ],
   "source": [
    "# Use the lower and upper `95%` confidence intervals to calculate the range of the possible outcomes for the current stock/bond portfolio\n",
    "ci_lower_ten_cumulative_return = MC_10_year_summaray_stats[8] * current_balance\n",
    "ci_upper_ten_cumulative_return = MC_10_year_summaray_stats[9] * current_balance\n",
    "\n",
    "# Print the result of your calculations\n",
    "print(f\"There is a 95% chance that your ${current_balance}\"\n",
    "    f\" over the next 30 years will end within in the range of\"\n",
    "    f\" ${ci_lower_ten_cumulative_return: .2f} and ${ci_upper_ten_cumulative_return: .2f}.\")\n"
   ]
  },
  {
   "cell_type": "markdown",
   "metadata": {},
   "source": [
    "#### Question: Will weighting the portfolio more heavily to stocks allow the credit union members to retire after only 10 years?"
   ]
  },
  {
   "cell_type": "raw",
   "metadata": {},
   "source": [
    "**Answer** # Without knowing the credit union members entire situation, we can't answer this question with 100% certainty.  Given the member currently makes $144,000/year ($12,000/month multiplied by 12 months) and the portfolio's value for the Upper Confidence level is set at $459,430.73 10 years from now, we can make the assumption that the total stock/bond portfolio would not support the member retiring within the next 10 years, even with the heavier weighting to equities. Addtionally, the lower confidence level value of $45,736 illustrates the increased risk we are taking with the portfolio.  The portfolio has a chance of being worth signicantly less than where we stand today.  Given worse returns potential due to increased risk profile of 80% stocks and the shorter term nature of 10 years vs. 30 years, it would support the upper confidence level theory of not planning on retiring in 10 years based on the above information.  "
   ]
  },
  {
   "cell_type": "markdown",
   "metadata": {},
   "source": [
    "Without knowing the credit union members entire situation, we can't answer this question with 100% certainty.  Given the member currently makes 144,000/year (12,000/month multiplied by 12 months) and the portfolio's value for the Upper Confidence level is set at 459,430.73 10 years from now, we can make the assumption that the total stock/bond portfolio would not support the member retiring within the next 10 years, even with the heavier weighting to equities. Addtionally, the lower confidence level value of 45,736 illustrates the increased risk we are taking with the portfolio.  The portfolio has a chance of being worth signicantly less than where we stand today.  Given worse returns potential due to increased risk profile of 80% stocks and the shorter term nature of 10 years vs. 30 years, it would support the upper confidence level theory of not planning on retiring in 10 years based on the above information.\n"
   ]
  },
  {
   "cell_type": "code",
   "execution_count": null,
   "metadata": {},
   "outputs": [],
   "source": []
  }
 ],
 "metadata": {
  "kernelspec": {
   "display_name": "Python 3 (ipykernel)",
   "language": "python",
   "name": "python3"
  },
  "language_info": {
   "codemirror_mode": {
    "name": "ipython",
    "version": 3
   },
   "file_extension": ".py",
   "mimetype": "text/x-python",
   "name": "python",
   "nbconvert_exporter": "python",
   "pygments_lexer": "ipython3",
   "version": "3.7.11"
  }
 },
 "nbformat": 4,
 "nbformat_minor": 4
}
